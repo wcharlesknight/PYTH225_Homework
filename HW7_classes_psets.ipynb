{
  "nbformat": 4,
  "nbformat_minor": 0,
  "metadata": {
    "colab": {
      "name": "HW7_classes_psets.ipynb",
      "provenance": [],
      "collapsed_sections": [
        "y8I3eTeXQVSR",
        "4T8OMv5cQVSl",
        "L9e1xwP0QVSu"
      ],
      "include_colab_link": true
    },
    "kernelspec": {
      "name": "python3",
      "display_name": "Python 3"
    }
  },
  "cells": [
    {
      "cell_type": "markdown",
      "metadata": {
        "id": "view-in-github",
        "colab_type": "text"
      },
      "source": [
        "<a href=\"https://colab.research.google.com/github/wcharlesknight/PYTH225_Homework/blob/master/HW7_classes_psets.ipynb\" target=\"_parent\"><img src=\"https://colab.research.google.com/assets/colab-badge.svg\" alt=\"Open In Colab\"/></a>"
      ]
    },
    {
      "cell_type": "markdown",
      "metadata": {
        "id": "RyPJy42MQVR4",
        "colab_type": "text"
      },
      "source": [
        "#  CLASSES\n",
        "\n",
        "\n"
      ]
    },
    {
      "cell_type": "markdown",
      "metadata": {
        "id": "wN5WvJFIQav3",
        "colab_type": "text"
      },
      "source": [
        "## BASICS"
      ]
    },
    {
      "cell_type": "markdown",
      "metadata": {
        "id": "-pkisP_FQcHU",
        "colab_type": "text"
      },
      "source": [
        "### P1.PY"
      ]
    },
    {
      "cell_type": "code",
      "metadata": {
        "id": "IzneYCnaQVR5",
        "colab_type": "code",
        "colab": {
          "base_uri": "https://localhost:8080/",
          "height": 51
        },
        "outputId": "13025353-e069-4f78-ce68-6c31b72ec738"
      },
      "source": [
        "\"\"\"\n",
        "Person class\n",
        "\"\"\"\n",
        "\n",
        "# Create a Person class with the following properties\n",
        "# 1. name\n",
        "# 2. age\n",
        "# 3. social security number\n",
        "\n",
        "class Person:\n",
        "  def __init__(self,name,age,social_security):\n",
        "    self.name = name\n",
        "    self.age = age\n",
        "    self.social_security = social_security\n",
        "\n",
        "charlie = Person('charlie',29,'123-23-3123')\n",
        "\n",
        "print(charlie.name)\n",
        "print(charlie.social_security)"
      ],
      "execution_count": 9,
      "outputs": [
        {
          "output_type": "stream",
          "text": [
            "charlie\n",
            "123-23-3123\n"
          ],
          "name": "stdout"
        }
      ]
    },
    {
      "cell_type": "markdown",
      "metadata": {
        "id": "ZrXt0IATQVR_",
        "colab_type": "text"
      },
      "source": [
        "\n",
        "\n",
        "### P2.PY\n",
        "\n",
        "\n"
      ]
    },
    {
      "cell_type": "code",
      "metadata": {
        "id": "HmfkVGjjQVSA",
        "colab_type": "code",
        "outputId": "972de746-d8b6-4072-ed52-3c80523a5c7a",
        "colab": {
          "base_uri": "https://localhost:8080/",
          "height": 51
        }
      },
      "source": [
        "\"\"\"\n",
        "Cat class\n",
        "\"\"\"\n",
        "\n",
        "# Implement a class called \"Cat\" with the following properties:\n",
        "# name\n",
        "# breed\n",
        "# age\n",
        "class Cat:\n",
        "  def __init__(self, name, breed, age):\n",
        "    self.name = name\n",
        "    self.breed = breed\n",
        "    self.age = age\n",
        "    \n",
        "  \n",
        "  speak = 'purr'\n",
        "\n",
        "  def cat_speak(self):\n",
        "    return self.speak\n",
        "\n",
        "c1 = Cat('garfield','bengal','10')\n",
        "print(c1.name)\n",
        "print(c1.cat_speak())\n",
        "\n",
        "# also, implement a method called \"speak\" that should print out \"purr\"\n"
      ],
      "execution_count": 0,
      "outputs": [
        {
          "output_type": "stream",
          "text": [
            "garfield\n",
            "purr\n"
          ],
          "name": "stdout"
        }
      ]
    },
    {
      "cell_type": "markdown",
      "metadata": {
        "id": "qvxZaPxNQVSD",
        "colab_type": "text"
      },
      "source": [
        "\n",
        "\n",
        "### P3.PY\n",
        "\n",
        "\n"
      ]
    },
    {
      "cell_type": "code",
      "metadata": {
        "id": "m6PY5wQdQVSE",
        "colab_type": "code",
        "outputId": "e4d5e1d8-99e3-4651-8bab-d1c5c69ba8c1",
        "colab": {
          "base_uri": "https://localhost:8080/",
          "height": 34
        }
      },
      "source": [
        "\"\"\"\n",
        "Phone Contacts\n",
        "\"\"\" \n",
        "\n",
        "# Create a class called \"Contact\" that will store the below items for each contact in your phone. The starred items should be required. \n",
        "# Instantiate two Contact instance objects and access each of their attributes.\n",
        "    ### name*\n",
        "    ### mobile_num\n",
        "    ### work_num\n",
        "    ### email\n",
        "class Contact:\n",
        "  def __init__(self,first, last, mobile_num=None, work_num=None, email=None):\n",
        "    self.fname = first\n",
        "    self.lname = last\n",
        "    self.name = f\"{self.fname} {self.lname}\"\n",
        "    self.mobile = mobile_num\n",
        "    self.work = work_num \n",
        "    self.email = email\n",
        "\n",
        "  def __repr__(self):\n",
        "    return f\"\"\"\n",
        "    {self.name}\n",
        "    -----------\n",
        "    {self.mobile}\n",
        "    {self.work}\n",
        "    {self.email}\n",
        "    \"\"\"\n",
        "  \n",
        "contact1 = ('Charlie', 'knight', '222-222-2222','111-111','asdasd@asdasd.com')\n",
        "\n",
        "contact1.__repr__()"
      ],
      "execution_count": 0,
      "outputs": [
        {
          "output_type": "execute_result",
          "data": {
            "text/plain": [
              "\"('Charlie', 'knight', '222-222-2222', '111-111', 'asdasd@asdasd.com')\""
            ]
          },
          "metadata": {
            "tags": []
          },
          "execution_count": 9
        }
      ]
    },
    {
      "cell_type": "markdown",
      "metadata": {
        "id": "PRUu-pYrQVSG",
        "colab_type": "text"
      },
      "source": [
        "\n",
        "\n",
        "### P4.PY\n",
        "\n",
        "\n"
      ]
    },
    {
      "cell_type": "code",
      "metadata": {
        "id": "UY7JmxmNQVSH",
        "colab_type": "code",
        "outputId": "c982e955-a032-4160-9297-7525cc4cdd9d",
        "colab": {
          "base_uri": "https://localhost:8080/",
          "height": 51
        }
      },
      "source": [
        "\"\"\"\n",
        "Rectangle\n",
        "\"\"\"\n",
        "\n",
        "# Write a Python class named \"Rectangle\" constructed by values for length and width. \n",
        "# It should include two methods to calculate the \"area\" and the \"perimeter\" of a rectangle. Instantiate a Rectangle and call both methods.\n",
        "\n",
        "class Rectangle:\n",
        "  def __init__(self, width, length):\n",
        "    self.width = width\n",
        "    self.length = length\n",
        "\n",
        "  def area(self):\n",
        "    return self.length * self.width\n",
        "\n",
        "  def perimeter(self):\n",
        "    return 2*self.length + 2*self.width\n",
        "\n",
        "c = Rectangle(2,5)\n",
        "print(c.area())\n",
        "print(c.perimeter())\n"
      ],
      "execution_count": 0,
      "outputs": [
        {
          "output_type": "stream",
          "text": [
            "10\n",
            "14\n"
          ],
          "name": "stdout"
        }
      ]
    },
    {
      "cell_type": "markdown",
      "metadata": {
        "id": "z3HWRp76QVSK",
        "colab_type": "text"
      },
      "source": [
        "\n",
        "\n",
        "### P5.PY\n",
        "\n",
        "\n"
      ]
    },
    {
      "cell_type": "code",
      "metadata": {
        "id": "CAahOYImQVSL",
        "colab_type": "code",
        "outputId": "1e65f4a3-ffa5-431f-f0ae-acc0ff7e7d4e",
        "colab": {
          "base_uri": "https://localhost:8080/",
          "height": 51
        }
      },
      "source": [
        "\"\"\"\n",
        "Circle\n",
        "\"\"\"\n",
        "\n",
        "# Write a Python class named \"Circle\" constructed by a radius value and a class attribute for pi. \n",
        "# You can use 3.14159 for the value of pi for simplicity. It should include two methods to calculate \n",
        "# the \"area\" and the \"perimeter\" of a circle. Instantiate a Circle and call both methods.\n",
        "\n",
        "class Circle:\n",
        "  pi = 3.14159\n",
        "\n",
        "  def __init__(self, radius: float):\n",
        "    self.r = radius\n",
        "\n",
        "    self.circumference = 2 * self.r * self.pi \n",
        "\n",
        "    self.area = self.r ** 2 * self.pi\n",
        "\n",
        "  def get_circumf(self) -> float:\n",
        "    return self.circumference\n",
        "\n",
        "  def get_area(self) -> float:\n",
        "    return (self.r ** 2) * self.pi\n",
        "\n",
        "  def get_sector_area(self, angle: int) -> float:\n",
        "    frac = angle / 360\n",
        "\n",
        "    return frac * self.area \n",
        "\n",
        "c1 = Circle(1)\n",
        "c2 = Circle(10)\n",
        "\n",
        "print(c1.get_circumf())\n",
        "print(c1.get_area())\n",
        "\n"
      ],
      "execution_count": 0,
      "outputs": [
        {
          "output_type": "stream",
          "text": [
            "6.28318\n",
            "3.14159\n"
          ],
          "name": "stdout"
        }
      ]
    },
    {
      "cell_type": "markdown",
      "metadata": {
        "id": "UhQbvm0yQVSN",
        "colab_type": "text"
      },
      "source": [
        "\n",
        "\n",
        "### P6.PY\n",
        "\n",
        "\n"
      ]
    },
    {
      "cell_type": "code",
      "metadata": {
        "id": "L3ALeW8dQVSO",
        "colab_type": "code",
        "outputId": "67e74fbc-ca5c-4ee7-9898-0a51c9644a86",
        "colab": {
          "base_uri": "https://localhost:8080/",
          "height": 34
        }
      },
      "source": [
        "\"\"\"\n",
        "RGB to HEX\n",
        "\"\"\"\n",
        "\n",
        "# Remember our function \"rgb_hex\" from the functions pset? That function took a color in rgb format and returned it in hex format as well as vice versa. Wouldn't it be so much easier to do that with a class called Color?\n",
        "\n",
        "# Define a class called \"Color\" to store each color's rgb and hex values. Define a method called \"convert_codes()\" to retrieve one value given the other. Create at least one instance of Color and try the convert_codes() method.\n",
        "class Color:\n",
        "  def __init__(self, rgb, hex):\n",
        "    self.rgb = rgb\n",
        "    self.hex = hex\n",
        "  \n",
        "  def convert_rgb(self,rgb):\n",
        "    return self.hex\n",
        "\n",
        "  def convert_hex(self,hex):\n",
        "    return self.rgb\n",
        "    \n",
        "\n",
        "c = Color('#11111','blue')\n",
        "\n",
        "print(c.convert_hex('blue'))\n"
      ],
      "execution_count": 0,
      "outputs": [
        {
          "output_type": "stream",
          "text": [
            "#11111\n"
          ],
          "name": "stdout"
        }
      ]
    },
    {
      "cell_type": "markdown",
      "metadata": {
        "id": "y8I3eTeXQVSR",
        "colab_type": "text"
      },
      "source": [
        "## VEHICLES\n",
        "\n",
        "\n"
      ]
    },
    {
      "cell_type": "markdown",
      "metadata": {
        "id": "aALzjPkdQhSP",
        "colab_type": "text"
      },
      "source": [
        "### P1.PY"
      ]
    },
    {
      "cell_type": "code",
      "metadata": {
        "id": "ghZcPSz0QVSS",
        "colab_type": "code",
        "outputId": "bb910c81-963d-4eac-d562-ede76f87a75c",
        "colab": {
          "base_uri": "https://localhost:8080/",
          "height": 68
        }
      },
      "source": [
        "\"\"\"\n",
        "Vehicles I \n",
        "\"\"\"\n",
        "\n",
        "# Create a \"Vehicle\" class with instance attributes for \"name\" and \"owner\". \n",
        "# Add a method called \"start_engine()\" that prints \"Vroom!\". \n",
        "# Instantiate a Vehicle called \"submarine\" and then access all its attributes and methods for practice.\n",
        "\n",
        "class Vehicle:\n",
        "  def __init__(self, name, owner):\n",
        "    self.name = name\n",
        "    self.owner = owner\n",
        "  \n",
        "  engine_noise = 'Vrooom!'\n",
        "\n",
        "  def start_engine(self):\n",
        "    return self.engine_noise\n",
        "\n",
        "submarine = Vehicle('submarine','q and charlie')\n",
        "print(submarine.name)\n",
        "print(submarine.owner)\n",
        "print(submarine.start_engine())"
      ],
      "execution_count": 0,
      "outputs": [
        {
          "output_type": "stream",
          "text": [
            "submarine\n",
            "q and charlie\n",
            "Vrooom!\n"
          ],
          "name": "stdout"
        }
      ]
    },
    {
      "cell_type": "markdown",
      "metadata": {
        "id": "CxsKrKDYQVSV",
        "colab_type": "text"
      },
      "source": [
        "\n",
        "\n",
        "### P2.PY\n",
        "\n",
        "\n"
      ]
    },
    {
      "cell_type": "code",
      "metadata": {
        "id": "vxseoNdVQVSW",
        "colab_type": "code",
        "outputId": "61b96762-aa40-45a7-e49d-e337f45c7ead",
        "colab": {
          "base_uri": "https://localhost:8080/",
          "height": 34
        }
      },
      "source": [
        "\"\"\"\n",
        "Vehicles II\n",
        "\"\"\"\n",
        "\n",
        "# Define 3 unique child classes for Vehicle - Car, Plane, and Boat. \n",
        "# Each of these should have its own class attributes for \"motion\" and \"terrain\". (For Car, these would be something like \"drive\" and \"land\".)\n",
        "class Vehicle:\n",
        "  def __init__(self, name, owner):\n",
        "    self.name = name\n",
        "    self.owner = owner\n",
        "  \n",
        "  engine_noise = 'Vrooom!'\n",
        "\n",
        "  def start_engine(self):\n",
        "    return self.engine_noise\n",
        "\n",
        "class Car(Vehicle):\n",
        "  motion = 'drive'\n",
        "  terrain = 'road'\n",
        "\n",
        "\n",
        "class Plane(Vehicle):\n",
        "  motion = 'fly'\n",
        "  terrain = 'air'\n",
        "\n",
        "class Boat(Vehicle):\n",
        "  motion = 'sail'\n",
        "  terrain = 'water'\n",
        "\n",
        "roadvehicle = Car('abd','charlie')\n",
        "print(roadvehicle.motion)"
      ],
      "execution_count": 0,
      "outputs": [
        {
          "output_type": "stream",
          "text": [
            "drive\n"
          ],
          "name": "stdout"
        }
      ]
    },
    {
      "cell_type": "markdown",
      "metadata": {
        "id": "sYiJRi07QVSY",
        "colab_type": "text"
      },
      "source": [
        "\n",
        "\n",
        "### P3.PY\n",
        "\n",
        "\n"
      ]
    },
    {
      "cell_type": "code",
      "metadata": {
        "id": "VdMZiobfQVSZ",
        "colab_type": "code",
        "outputId": "d904e4fa-a6a9-40c2-c4ac-a06f6a0c7d15",
        "colab": {
          "base_uri": "https://localhost:8080/",
          "height": 51
        }
      },
      "source": [
        "\"\"\"\n",
        "Vehicles III\n",
        "\"\"\"\n",
        "\n",
        "# For Car, define a method called \"honk_horn()\" that prints \"HONK!\"\n",
        "# For Plane, define a method called \"take_off()\" that prints \"Fasten your seatbelts!\"\n",
        "# For Boat, define a method called \"drop_achor()\" that prints \"Anchors away!\"\n",
        "class Vehicle:\n",
        "  def __init__(self, name, owner):\n",
        "    self.name = name\n",
        "    self.owner = owner\n",
        "  \n",
        "  engine_noise = 'Vrooom!'\n",
        "\n",
        "  def start_engine(self):\n",
        "    return self.engine_noise\n",
        "\n",
        "class Car(Vehicle):\n",
        "  motion = 'drive'\n",
        "  terrain = 'road'\n",
        "\n",
        "  def honk_horn(self):\n",
        "    return 'HONK!'\n",
        "\n",
        "class Plane(Vehicle):\n",
        "  motion = 'fly'\n",
        "  terrain = 'air'\n",
        "\n",
        "  def take_off(self):\n",
        "    return 'Fasten your seatbelts!'\n",
        "\n",
        "class Boat(Vehicle):\n",
        "  motion = 'sail'\n",
        "  terrain = 'water'\n",
        "\n",
        "  def drop_achor(self):\n",
        "    return 'Anchors Away!'\n",
        "\n",
        "roadvehicle = Car('abd','charlie')\n",
        "print(roadvehicle.motion)\n",
        "roadvehicle.honk_horn()"
      ],
      "execution_count": 0,
      "outputs": [
        {
          "output_type": "stream",
          "text": [
            "drive\n"
          ],
          "name": "stdout"
        },
        {
          "output_type": "execute_result",
          "data": {
            "text/plain": [
              "'HONK!'"
            ]
          },
          "metadata": {
            "tags": []
          },
          "execution_count": 17
        }
      ]
    },
    {
      "cell_type": "markdown",
      "metadata": {
        "id": "vQBQiZeaQVSb",
        "colab_type": "text"
      },
      "source": [
        "\n",
        "\n",
        "### P4.PY\n",
        "\n",
        "\n"
      ]
    },
    {
      "cell_type": "code",
      "metadata": {
        "id": "LBmdMSW8QVSb",
        "colab_type": "code",
        "outputId": "52275a26-b9d9-4f03-90b2-39a463d205e9",
        "colab": {
          "base_uri": "https://localhost:8080/",
          "height": 119
        }
      },
      "source": [
        "\"\"\"\n",
        "Vehicles IV\n",
        "\"\"\"\n",
        "\n",
        "# Create an instance of each child class. Access all their attributes and methods, including those inherited from their parent class Vehicle.\n",
        "\n",
        "# TAKEAWAY! - Vehicle is the baseline class for other more specific types of vehicles. \n",
        "\n",
        "class Vehicle:\n",
        "  def __init__(self, name, owner):\n",
        "    self.name = name\n",
        "    self.owner = owner\n",
        "  \n",
        "  engine_noise = 'Vrooom!'\n",
        "\n",
        "  def start_engine(self):\n",
        "    return self.engine_noise\n",
        "\n",
        "class Car(Vehicle):\n",
        "  motion = 'drive'\n",
        "  terrain = 'road'\n",
        "\n",
        "  def honk_horn(self):\n",
        "    return 'HONK!'\n",
        "\n",
        "class Plane(Vehicle):\n",
        "  motion = 'fly'\n",
        "  terrain = 'air'\n",
        "\n",
        "  def take_off(self):\n",
        "    return 'Fasten your seatbelts!'\n",
        "\n",
        "class Boat(Vehicle):\n",
        "  motion = 'sail'\n",
        "  terrain = 'water'\n",
        "\n",
        "  def drop_achor(self):\n",
        "    return 'Anchors Away!'\n",
        "\n",
        "roadvehicle = Car('abd','charlie')\n",
        "boeing = Plane('747','larry')\n",
        "sail = Boat('sailer','morgan')\n",
        "print(roadvehicle.motion)\n",
        "print(roadvehicle.honk_horn())\n",
        "print(boeing.terrain)\n",
        "boeing.take_off()\n",
        "print(boeing.start_engine())\n",
        "print(sail.name)\n",
        "sail.drop_achor()"
      ],
      "execution_count": 0,
      "outputs": [
        {
          "output_type": "stream",
          "text": [
            "drive\n",
            "HONK!\n",
            "air\n",
            "Vrooom!\n",
            "sailer\n"
          ],
          "name": "stdout"
        },
        {
          "output_type": "execute_result",
          "data": {
            "text/plain": [
              "'Anchors Away!'"
            ]
          },
          "metadata": {
            "tags": []
          },
          "execution_count": 2
        }
      ]
    },
    {
      "cell_type": "markdown",
      "metadata": {
        "id": "n5WuMcd2QVSf",
        "colab_type": "text"
      },
      "source": [
        "\n",
        "\n",
        "### P5.PY\n",
        "\n",
        "\n"
      ]
    },
    {
      "cell_type": "code",
      "metadata": {
        "id": "oLi5DYoRQVSg",
        "colab_type": "code",
        "outputId": "551306e1-789b-4a3f-faeb-913b4823544d",
        "colab": {
          "base_uri": "https://localhost:8080/",
          "height": 34
        }
      },
      "source": [
        "\"\"\"\n",
        "Vehicles V\n",
        "\"\"\"\n",
        "\n",
        "# Let's expand the Car class to be more comprehensive. Include attributes for...\n",
        "## brand name\n",
        "## plates\n",
        "## owner\n",
        "## fuel (e.g. gasoline, battery, etc.)\n",
        "## fuel_level (a numerical amount that defaults to 50, and max speed in MPH that defaults to None. \n",
        "class Vehicle:\n",
        "  def __init__(self, name, owner):\n",
        "    self.name = name\n",
        "    self.owner = owner\n",
        "  \n",
        "  engine_noise = 'Vrooom!'\n",
        "\n",
        "  def start_engine(self):\n",
        "    return self.engine_noise\n",
        "\n",
        "class Car(Vehicle):\n",
        "  def __init__(self, brand, car_owner, plates, fuel, fuel_level=50, max_speed=None):\n",
        "    self.motion = 'drive'\n",
        "    self.terrain = 'road'\n",
        "    self.car_owner = car_owner\n",
        "    self.brand = brand\n",
        "    self.plates = plates\n",
        "    self.fuel = fuel\n",
        "    self.fuel_level = fuel_level\n",
        "    self.max_speed = max_speed\n",
        "\n",
        "\n",
        "toyota = Car('toyota','charlie', '123AFGD', 'gas')\n",
        "print(toyota.fuel_level)"
      ],
      "execution_count": 0,
      "outputs": [
        {
          "output_type": "stream",
          "text": [
            "50\n"
          ],
          "name": "stdout"
        }
      ]
    },
    {
      "cell_type": "markdown",
      "metadata": {
        "id": "A6fExHtLQVSi",
        "colab_type": "text"
      },
      "source": [
        "\n",
        "\n",
        "### P6.PY\n",
        "\n",
        "\n"
      ]
    },
    {
      "cell_type": "code",
      "metadata": {
        "id": "MpL9MvJJQVSj",
        "colab_type": "code",
        "outputId": "43c558f4-14bf-4073-cb48-c140160effdc",
        "colab": {
          "base_uri": "https://localhost:8080/",
          "height": 51
        }
      },
      "source": [
        "\"\"\"\n",
        "Vehicles VI\n",
        "\"\"\"\n",
        "\n",
        "# Next, define new method called \"check_fuel_level()\" for your newly expanded Car class. \n",
        "# If the fuel_level attribute is < 15, the method should reset fuel_level to 50 and print \n",
        "# out how many units it refueled the car, e.g. 'Refueled 38 units.' Otherwise, it should simply print 'No need to refuel right now.'\n",
        "\n",
        "# Create at least TWO instances of Car, one of which has a fuel level below 15. \n",
        "# Access the new attributes and call the check_fuel_level() method for each instance.\n",
        "\n",
        "class Vehicle:\n",
        "  def __init__(self, name, owner):\n",
        "    self.name = name\n",
        "    self.owner = owner\n",
        "  \n",
        "  engine_noise = 'Vrooom!'\n",
        "\n",
        "  def start_engine(self):\n",
        "    return self.engine_noise\n",
        "\n",
        "class Car(Vehicle):\n",
        "  def __init__(self, brand, car_owner, plates, fuel, fuel_level=50, max_speed=None):\n",
        "    self.motion = 'drive'\n",
        "    self.terrain = 'road'\n",
        "    self.car_owner = car_owner\n",
        "    self.brand = brand\n",
        "    self.plates = plates\n",
        "    self.fuel = fuel\n",
        "    self.fuel_level = fuel_level\n",
        "    self.max_speed = max_speed\n",
        "\n",
        "\n",
        "  def check_fuel_level(self):\n",
        "    x = 50 - self.fuel_level\n",
        "    if self.fuel_level < 15:\n",
        "      self.fuel_level + x\n",
        "      return f'{self.brand} refueled {x} units'\n",
        "    else:\n",
        "      return f'{self.brand} no need to refuel'\n",
        "\n",
        "toyota = Car('toyota','charlie', '123AFGD', 'gas',12)\n",
        "gm = Car('GM', 'scott', '12ASDAF', 'gas', 25)\n",
        "print(toyota.check_fuel_level())\n",
        "print(gm.check_fuel_level())"
      ],
      "execution_count": 0,
      "outputs": [
        {
          "output_type": "stream",
          "text": [
            "toyota refueled 38 units\n",
            "GM no need to refuel\n"
          ],
          "name": "stdout"
        }
      ]
    },
    {
      "cell_type": "markdown",
      "metadata": {
        "id": "4T8OMv5cQVSl",
        "colab_type": "text"
      },
      "source": [
        "## WEDDING_GUESTS\n",
        "\n",
        "\n"
      ]
    },
    {
      "cell_type": "markdown",
      "metadata": {
        "id": "ZkHoC8FJQksO",
        "colab_type": "text"
      },
      "source": [
        "### P1.PY"
      ]
    },
    {
      "cell_type": "code",
      "metadata": {
        "id": "QEaByQNqQVSm",
        "colab_type": "code",
        "outputId": "4ff72455-2d5d-4d21-bb0b-890cc9bb7379",
        "colab": {
          "base_uri": "https://localhost:8080/",
          "height": 85
        }
      },
      "source": [
        "\"\"\"\n",
        "Weddings I - Guest List\n",
        "\"\"\"\n",
        "\n",
        "# Imagine for this problem set that you are planning a wedding. \n",
        "\n",
        "\n",
        "# A) Define a class called \"Guest\" to help you manage all the information about each invitee. \n",
        "# This should initially include instance attributes for the guests's name, phone, and \n",
        "# an optional \"invite_sent\" that defaults to False. \n",
        "# Guest should also include an instance method called \"send_invite()\", \n",
        "# which changes the value of invite_sent to True once you send an invitation to that guest.\n",
        "# B) Next, define a child class called \"Bridesmaid\", which includes the same initial attributes and inherits Guest's instance method.\n",
        "# C) Finally, create at least one instance of each class and do the following:\n",
        "### Call send_invite() on each instance.\n",
        "### Check whether Bridesmaid is a child of Guest and vice versa.\n",
        "class Guest:\n",
        "  def __init__(self, name, phone, invite_sent=False):\n",
        "    self.name =  name\n",
        "    self.phone = phone\n",
        "    self.invite_sent = invite_sent\n",
        "\n",
        "  def send_invite(self):\n",
        "    self.invite_sent = True\n",
        "    return f'Invite sent: {self.invite_sent}'\n",
        "\n",
        "class Bridesmaid(Guest):\n",
        "  def __init__(seld, name, phone, invite_sent=False):\n",
        "    super().__init__(name,phone,invite_sent=False)\n",
        "\n",
        "charlie = Guest('charlie',123-445-1234)\n",
        "print(charlie.name)\n",
        "print(charlie.send_invite())\n",
        "\n",
        "\n",
        "steph = Bridesmaid('steph','154-123-1234')\n",
        "print(steph.name)\n",
        "print(steph.send_invite())\n"
      ],
      "execution_count": 0,
      "outputs": [
        {
          "output_type": "stream",
          "text": [
            "charlie\n",
            "Invite sent: True\n",
            "steph\n",
            "Invite sent: True\n"
          ],
          "name": "stdout"
        }
      ]
    },
    {
      "cell_type": "markdown",
      "metadata": {
        "id": "UBc-ylx5QVSo",
        "colab_type": "text"
      },
      "source": [
        "\n",
        "\n",
        "### P2.PY\n",
        "\n",
        "\n"
      ]
    },
    {
      "cell_type": "code",
      "metadata": {
        "id": "de41Yy_RQVSo",
        "colab_type": "code",
        "outputId": "6e3180e9-fb4b-4171-f470-6be4d6f253b4",
        "colab": {
          "base_uri": "https://localhost:8080/",
          "height": 102
        }
      },
      "source": [
        "\"\"\"\n",
        "Weddings II - Record Bridesmaid RSVPs\n",
        "\"\"\"\n",
        "\n",
        "# # Create a method in Guest to record a guests's rsvp to your invitation. \n",
        "# It should record whether they have any dietary restrictions (e.g. vegetarian, kosher, halal, etc.) \n",
        "# and whether they're bringing a plus one. If they are bringing a plus one, \n",
        "# it should record the name of the plus one and his/her dietary restrictions if any. These values should be stored in instance attributes.\n",
        "\n",
        "# Try out this method on at least one instance of Guest and at least one instance of Bridesmaid.\n",
        "\n",
        "class Guest:\n",
        "  def __init__(self, name, phone, invite_sent=False):\n",
        "    self.name =  name\n",
        "    self.phone = phone\n",
        "    self.invite_sent = invite_sent\n",
        "\n",
        "  def send_invite(self):\n",
        "    self.invite_sent = True\n",
        "    return f'Invite sent: {self.invite_sent}'\n",
        "  \n",
        "  def rsvp(self,dietary, plus_one=None,plus_name=None,plus_dietary=None):\n",
        "    self.dietary = dietary\n",
        "    self.plus_one = plus_one\n",
        "    self.plus_name = plus_name\n",
        "    self.plus_dietary = plus_dietary\n",
        "    if self.plus_one >= 1:\n",
        "      return f'{self.name} is bringing {self.plus_name} and {self.plus_name} cant eat {plus_dietary}'\n",
        "\n",
        "\n",
        "class Bridesmaid(Guest):\n",
        "  def __init__(self, name, phone, invite_sent=False):\n",
        "    super().__init__(name,phone,invite_sent=False)\n",
        "\n",
        "charlie = Guest('charlie',123-445-1234)\n",
        "print(charlie.name)\n",
        "print(charlie.send_invite())\n",
        "\n",
        "\n",
        "steph = Bridesmaid('steph',154-123-1234)\n",
        "print(steph.name)\n",
        "print(steph.send_invite())\n",
        "\n",
        "fred = Guest('fred',1234)\n",
        "\n",
        "print(fred.rsvp('kohser',1,'sherry','crappy food'))"
      ],
      "execution_count": 0,
      "outputs": [
        {
          "output_type": "stream",
          "text": [
            "charlie\n",
            "Invite sent: True\n",
            "steph\n",
            "Invite sent: True\n",
            "fred is bringing sherry and sherry cant eat crappy food\n"
          ],
          "name": "stdout"
        }
      ]
    },
    {
      "cell_type": "markdown",
      "metadata": {
        "id": "ae81Cvg3QVSr",
        "colab_type": "text"
      },
      "source": [
        "\n",
        "\n",
        "### P3.PY\n",
        "\n",
        "\n"
      ]
    },
    {
      "cell_type": "code",
      "metadata": {
        "id": "uL2m2WDNQVSs",
        "colab_type": "code",
        "outputId": "f5d12370-3c11-4462-e9b3-6b3c21c8fad1",
        "colab": {
          "base_uri": "https://localhost:8080/",
          "height": 51
        }
      },
      "source": [
        "\"\"\"\n",
        "Weddings III - Record Shower & Bachelorette RSVP\n",
        "\"\"\"\n",
        "\n",
        "# Create two methods in Bridesmaid to record a the bridesmaid's rsvp to the bridal shower and the bachelorette party. \n",
        "# You can call them \"record_shower_rsvp()\" and \"record_bachelorette_rsvp()\". \n",
        "# They will work just like the general \"record_rsvp()\" except there will be no plus ones or diet questions. \n",
        "# Their rsvp answers should be stored in instance attributes with the same name (i.e. shower_rsvp & bachelorette_rsvp).\n",
        "\n",
        "class Guest:\n",
        "  def __init__(self, name, phone, invite_sent=False):\n",
        "    self.name =  name\n",
        "    self.phone = phone\n",
        "    self.invite_sent = invite_sent\n",
        "\n",
        "  def send_invite(self):\n",
        "    self.invite_sent = True\n",
        "    return f'Invite sent: {self.invite_sent}'\n",
        "  \n",
        "  def rsvp(self,dietary, plus_one=None,plus_name=None,plus_dietary=None):\n",
        "    self.dietary = dietary\n",
        "    self.plus_one = plus_one\n",
        "    self.plus_name = plus_name\n",
        "    self.plus_dietary = plus_dietary\n",
        "    if self.plus_one >= 1:\n",
        "      return f'{self.name} is bringing {self.plus_name} and {self.plus_name} cant eat {plus_dietary}'\n",
        "\n",
        "\n",
        "class Bridesmaid(Guest):\n",
        "  def __init__(self, name, phone, invite_sent=False):\n",
        "    super().__init__(name,phone,invite_sent=False)\n",
        "\n",
        "  def shower_rsvp(self, shower):\n",
        "    self.shower = shower\n",
        "    if self.shower == 'yes':\n",
        "      return f'{self.name} will be at the shower'\n",
        "    else:\n",
        "      return f'{self.name} will not be at the shower'\n",
        "  \n",
        "  def bachelorette_rsvp(self, bachelorette):\n",
        "    self.bachelorette = bachelorette\n",
        "    if self.bachelorette == 'yes':\n",
        "      return f'{self.name} will be at the bachelorette'\n",
        "    else:\n",
        "      return f'{self.name} will not be at the bachelorette'\n",
        "\n",
        "brenda = Bridesmaid('brenda','206-324-2344')\n",
        "\n",
        "print(brenda.shower_rsvp('yes'))\n",
        "print(brenda.bachelorette_rsvp('no'))"
      ],
      "execution_count": 0,
      "outputs": [
        {
          "output_type": "stream",
          "text": [
            "brenda will be at the shower\n",
            "brenda will not be at the bachelorette\n"
          ],
          "name": "stdout"
        }
      ]
    },
    {
      "cell_type": "markdown",
      "metadata": {
        "id": "L9e1xwP0QVSu",
        "colab_type": "text"
      },
      "source": [
        "\n",
        "\n",
        "## DOGS\n",
        "\n",
        "\n"
      ]
    },
    {
      "cell_type": "markdown",
      "metadata": {
        "id": "fqAxs72cQnUC",
        "colab_type": "text"
      },
      "source": [
        "### P1.PY"
      ]
    },
    {
      "cell_type": "code",
      "metadata": {
        "id": "lCOGctWEQVSw",
        "colab_type": "code",
        "outputId": "a647b4cf-26af-49f3-f5eb-81ecfb54056b",
        "colab": {
          "base_uri": "https://localhost:8080/",
          "height": 34
        }
      },
      "source": [
        "\"\"\"\n",
        "Dogs I\n",
        "\"\"\"\n",
        "\n",
        "# Create a class called \"Dog\". It should include: \n",
        "## A class attribute \"domesticated\" w. value True\n",
        "## An instance method called \"bark()\" that prints \"Woof!\"\n",
        "\n",
        "class Dog:\n",
        "  def __init__(self, domesticated=True):\n",
        "    self.domesticated = domesticated\n",
        "\n",
        "  def bark(self):\n",
        "    return \"Woof!\"\n",
        "\n",
        "snoopy = Dog()\n",
        "snoopy.bark()"
      ],
      "execution_count": 0,
      "outputs": [
        {
          "output_type": "execute_result",
          "data": {
            "text/plain": [
              "'Woof!'"
            ]
          },
          "metadata": {
            "tags": []
          },
          "execution_count": 4
        }
      ]
    },
    {
      "cell_type": "markdown",
      "metadata": {
        "id": "UO54DHkgQVS2",
        "colab_type": "text"
      },
      "source": [
        "\n",
        "\n",
        "### P2.PY\n",
        "\n",
        "\n"
      ]
    },
    {
      "cell_type": "code",
      "metadata": {
        "id": "njrtxJF-QVS5",
        "colab_type": "code",
        "outputId": "2839c304-05fa-49d0-c320-c862d4a81db5",
        "colab": {
          "base_uri": "https://localhost:8080/",
          "height": 51
        }
      },
      "source": [
        "\"\"\"\n",
        "Dogs II\n",
        "\"\"\" \n",
        "\n",
        "# Create child class for 3 dog breeds - Collie, Siberian Husky, and Pekingese. Each should have:\n",
        "## 2 class attributes for \"breed\" and \"temperament\". The latter should be a list.\n",
        "## 3 instance attributes for \"name\", \"age\", and \"gender\".\n",
        "class Dog:\n",
        "  def __init__(self, domesticated=True):\n",
        "    self.domesticated = domesticated\n",
        "\n",
        "  def bark(self):\n",
        "    return \"Woof!\"\n",
        "\n",
        "class Collie(Dog):\n",
        "  def __init__(self,name, age, gender):\n",
        "    self.name = name\n",
        "    self.age = age\n",
        "    self.gender = gender\n",
        "    self.breed = 'Collie'\n",
        "    self.tempermant = 'stoic'\n",
        "\n",
        "class SiberianHusky(Dog):\n",
        "  def __init__(self,name, age, gender):\n",
        "    self.name = name\n",
        "    self.age = age\n",
        "    self.gender = gender\n",
        "    self.breed = 'Siberian Husky'\n",
        "    self.tempermant = 'playful'\n",
        "\n",
        "class Pekingese(Dog):\n",
        "  def __init__(self,name, age, gender):\n",
        "    self.name = name\n",
        "    self.age = age\n",
        "    self.gender = gender\n",
        "    selef.breed = 'Penkingese'\n",
        "    \n",
        "    self.tempermant = 'annoying'\n",
        "\n",
        "\n",
        "\n",
        "snoopy = Collie('snoopy',23,'male')\n",
        "print(snoopy.name)\n",
        "snoopy.breed\n"
      ],
      "execution_count": 0,
      "outputs": [
        {
          "output_type": "stream",
          "text": [
            "snoopy\n"
          ],
          "name": "stdout"
        },
        {
          "output_type": "execute_result",
          "data": {
            "text/plain": [
              "'Collie'"
            ]
          },
          "metadata": {
            "tags": []
          },
          "execution_count": 5
        }
      ]
    },
    {
      "cell_type": "markdown",
      "metadata": {
        "id": "GRDjTLXgQVS7",
        "colab_type": "text"
      },
      "source": [
        "\n",
        "\n",
        "### P3.PY\n",
        "\n",
        "\n"
      ]
    },
    {
      "cell_type": "code",
      "metadata": {
        "id": "w5X6VYA9QVS_",
        "colab_type": "code",
        "colab": {
          "base_uri": "https://localhost:8080/",
          "height": 68
        },
        "outputId": "ea015a1d-87f5-431e-fd6a-fa9cf3281b44"
      },
      "source": [
        "\"\"\"\n",
        "Dogs III\n",
        "\"\"\" \n",
        "\n",
        "# A) Add an instance method to Collie called \"herd_the_kids()\" that prints \"Here are your children!\"\n",
        "\n",
        "# # B) Add an instance method called \"bark()\" to Pekingese. This should override the parent method \"bark()\" \n",
        "# such that when you call bark() on an instance of Pekingese, it prints \"Yap!\" instead.\n",
        "\n",
        "# # C) Instantiate one of each breed. Access the attributes, methods, and parent methods of each one. \n",
        "# BONUS: Aside from herd_the_kids(), you should be able to do this in a loop.\n",
        "class Dog:\n",
        "  def __init__(self, domesticated=True):\n",
        "    self.domesticated = domesticated\n",
        "\n",
        "  def bark(self):\n",
        "    return \"Woof!\"\n",
        "\n",
        "class Collie(Dog):\n",
        "  def __init__(self,name, age, gender):\n",
        "    self.name = name\n",
        "    self.age = age\n",
        "    self.gender = gender\n",
        "    self.breed = 'Collie'\n",
        "    self.tempermant = 'stoic'\n",
        "\n",
        "  def herd_the_kids(self):\n",
        "    return 'Here are your children!'\n",
        "\n",
        "class SiberianHusky(Dog):\n",
        "  def __init__(self,name, age, gender):\n",
        "    self.name = name\n",
        "    self.age = age\n",
        "    self.gender = gender\n",
        "    self.breed = 'Siberian Husky'\n",
        "    self.tempermant = 'playful'\n",
        "\n",
        "class Pekingese(Dog):\n",
        "  def __init__(self,name, age, gender):\n",
        "    self.name = name\n",
        "    self.age = age\n",
        "    self.gender = gender\n",
        "    self.breed = 'Penkingese'\n",
        "    self.tempermant = 'annoying'\n",
        "\n",
        "  def bark(self):\n",
        "    return 'Yap!'\n",
        "\n",
        "\n",
        "snoopy = Pekingese('snoopy',23,'male')\n",
        "loopy = Collie('loopy',2,'m')\n",
        "print(snoopy.name)\n",
        "snoopy.breed\n",
        "print(snoopy.bark())\n",
        "print(loopy.herd_the_kids())\n"
      ],
      "execution_count": 6,
      "outputs": [
        {
          "output_type": "stream",
          "text": [
            "snoopy\n",
            "Yap!\n",
            "Here are your children!\n"
          ],
          "name": "stdout"
        }
      ]
    },
    {
      "cell_type": "markdown",
      "metadata": {
        "id": "m7YmFSBWQVTB",
        "colab_type": "text"
      },
      "source": [
        "\n",
        "\n",
        "### P4.PY\n",
        "\n",
        "\n"
      ]
    },
    {
      "cell_type": "code",
      "metadata": {
        "id": "1d7XsSD8QVTB",
        "colab_type": "code",
        "colab": {}
      },
      "source": [
        "\"\"\"\n",
        "Dogs IV - Tricks (CHALLENGE!)\n",
        "\"\"\"\n",
        "\n",
        "# Many dogs know how to do common tricks or follow common commands. \n",
        "# You could create methods for each trick/command in the Dog parent class, but the problem is that not all dogs know all tricks/commands. \n",
        "\n",
        "# However, it would be inefficient to define a custom set of instance methods \n",
        "# for tricks/commands every time you instantiate a unique Collie (or SiberianHuskey or Pekingese etc.).\n",
        "\n",
        "# Find an efficient way to specify which tricks each unique dog knows and to call them. \n",
        "# You can use \"roll_over\", \"fetch\", \"shake_hands\", and \"spin\". Secondly, find a way to teach a dog new trick from this set.\n",
        "\n",
        "\n"
      ],
      "execution_count": 0,
      "outputs": []
    },
    {
      "cell_type": "markdown",
      "metadata": {
        "id": "JjH9Q0XiQVTD",
        "colab_type": "text"
      },
      "source": [
        "\n"
      ]
    }
  ]
}