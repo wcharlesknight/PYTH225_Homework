{
  "nbformat": 4,
  "nbformat_minor": 0,
  "metadata": {
    "colab": {
      "name": "HW2 Charlie Conditionals_psets.ipynb",
      "provenance": [],
      "collapsed_sections": [],
      "include_colab_link": true
    },
    "kernelspec": {
      "name": "python3",
      "display_name": "Python 3"
    }
  },
  "cells": [
    {
      "cell_type": "markdown",
      "metadata": {
        "id": "view-in-github",
        "colab_type": "text"
      },
      "source": [
        "<a href=\"https://colab.research.google.com/github/wcharlesknight/PYTH225_Homework/blob/master/HW2_CharlieKnight_ConditionalsFINAL_psets.ipynb\" target=\"_parent\"><img src=\"https://colab.research.google.com/assets/colab-badge.svg\" alt=\"Open In Colab\"/></a>"
      ]
    },
    {
      "cell_type": "markdown",
      "metadata": {
        "id": "FiL9pv11VtnR",
        "colab_type": "text"
      },
      "source": [
        "#  CONDITIONALS\n",
        "\n",
        "\n"
      ]
    },
    {
      "cell_type": "markdown",
      "metadata": {
        "id": "gijpYMCLV00L",
        "colab_type": "text"
      },
      "source": [
        "## WEATHER"
      ]
    },
    {
      "cell_type": "markdown",
      "metadata": {
        "id": "KL7ytXn4V2WB",
        "colab_type": "text"
      },
      "source": [
        "### P1.PY"
      ]
    },
    {
      "cell_type": "code",
      "metadata": {
        "id": "e32ChHBAVtnU",
        "colab_type": "code",
        "outputId": "425a7e4b-97c4-412c-d159-0ed2174b4f52",
        "colab": {
          "base_uri": "https://localhost:8080/",
          "height": 34
        }
      },
      "source": [
        "\"\"\"\n",
        "Weather I - Do you need boots?\n",
        "\"\"\"\n",
        "\n",
        "# Use the values of the vars defined below to ouput the correct contextual answer to the questions below. (Note: The variables themselves ARE the questions.)\n",
        "\n",
        "# Example:\n",
        "## am_i_hungry = False\n",
        "## am_i_tired = True\n",
        "## do_i_need_to_stay_awake = False\n",
        "\n",
        "## should_i_drink_coffee_now = am_i_tired and do_i_need_to_stay_awake\n",
        "\n",
        "## ^^ This ^^ evaluates to False. If you're tired and don't need to stay awake, you don't need to drink coffee!\n",
        "\n",
        "\n",
        "is_it_raining = True\n",
        "is_it_snowing = False\n",
        "\n",
        "\n",
        "do_i_need_snow_boots = is_it_snowing\n",
        "can_i_skip_snow_boots = not is_it_snowing\n",
        "do_i_need_rain_boots = is_it_raining\n",
        "can_i_skip_rain_boots = not is_it_raining\n",
        "\n"
      ],
      "execution_count": 2,
      "outputs": [
        {
          "output_type": "stream",
          "text": [
            "False\n"
          ],
          "name": "stdout"
        }
      ]
    },
    {
      "cell_type": "markdown",
      "metadata": {
        "id": "t9cxGL-8VtnX",
        "colab_type": "text"
      },
      "source": [
        "\n",
        "\n",
        "### P2.PY\n",
        "\n",
        "\n"
      ]
    },
    {
      "cell_type": "code",
      "metadata": {
        "id": "y80DTzliVtnY",
        "colab_type": "code",
        "outputId": "dd755d0b-f60c-481c-9d75-f3fa4e4f372f",
        "colab": {
          "base_uri": "https://localhost:8080/",
          "height": 34
        }
      },
      "source": [
        "\"\"\"\n",
        "Weather II - Precipitation\n",
        "\"\"\"\n",
        "\n",
        "# Repeat the same process as p1, using this new set of variables.\n",
        "\n",
        "sunny = True\n",
        "raining = True\n",
        "snowing = False\n",
        "\n",
        "is_it_sunny = sunny\n",
        "is_there_precipitation = raining\n",
        "is_it_sleeting = raining and snowing\n",
        "is_there_rainbow = sunny and raining\n",
        "\n"
      ],
      "execution_count": 0,
      "outputs": [
        {
          "output_type": "stream",
          "text": [
            "True\n"
          ],
          "name": "stdout"
        }
      ]
    },
    {
      "cell_type": "markdown",
      "metadata": {
        "id": "777sx1WCVtno",
        "colab_type": "text"
      },
      "source": [
        "\n",
        "\n",
        "### P3.PY\n",
        "\n",
        "\n"
      ]
    },
    {
      "cell_type": "code",
      "metadata": {
        "id": "9dNGqX2wVtnp",
        "colab_type": "code",
        "colab": {
          "base_uri": "https://localhost:8080/",
          "height": 85
        },
        "outputId": "dcdf16dc-d3ce-4a2e-e4ae-0bd4fd712f92"
      },
      "source": [
        "\"\"\"\n",
        "Weather III - Describe Conditions\n",
        "\"\"\"\n",
        "\n",
        "# Repeat the same process as p1, using this new set of variables.\n",
        "\n",
        "\n",
        "is_it_warm = True\n",
        "is_it_humid = True\n",
        "is_it_cold = False\n",
        "is_it_icy = False\n",
        "is_it_foggy = False\n",
        "is_it_windy = False\n",
        "is_it_overcast = True\n",
        "\n",
        "\n",
        "is_it_summer_weather = is_it_warm and not is_it_overcast\n",
        "is_rain_coming = is_it_overcast\n",
        "is_it_muggy = is_it_warm and is_it_humid\n",
        "do_i_need_coat = is_it_cold\n",
        "\n",
        "#questionable if it's summer weather since it's overcast...\n",
        "\n",
        "print(is_it_summer_weather)\n",
        "print(is_rain_coming)\n",
        "print(is_it_muggy)\n",
        "print(do_i_need_coat)"
      ],
      "execution_count": 51,
      "outputs": [
        {
          "output_type": "stream",
          "text": [
            "False\n",
            "True\n",
            "True\n",
            "False\n"
          ],
          "name": "stdout"
        }
      ]
    },
    {
      "cell_type": "markdown",
      "metadata": {
        "id": "c70y61m1Vtn3",
        "colab_type": "text"
      },
      "source": [
        "## LOGIC\n",
        "\n",
        "\n"
      ]
    },
    {
      "cell_type": "markdown",
      "metadata": {
        "id": "6IGtJU8oV5a8",
        "colab_type": "text"
      },
      "source": [
        "### P1.PY"
      ]
    },
    {
      "cell_type": "code",
      "metadata": {
        "id": "8dx3WRHBVtn4",
        "colab_type": "code",
        "outputId": "1aceb0fb-8efa-48b6-eebe-89113a882992",
        "colab": {
          "base_uri": "https://localhost:8080/",
          "height": 34
        }
      },
      "source": [
        "\"\"\"\n",
        "Calculate Grade\n",
        "\"\"\"\n",
        "\n",
        "grade = 15 # expect this to be a number\n",
        "\n",
        "# write a program that will print the \"letter\"\n",
        "# equivalent of the grade, for example:\n",
        "# when grade = 90 # -> expect A\n",
        "# when grade = 80 # -> expect B\n",
        "# when grade = 70 # -> expect C\n",
        "# when grade = 60 # -> expect D\n",
        "# when grade = 54 # -> expect F\n",
        "# when grade = -10 # -> expect Error\n",
        "# when grade = 10000 # -> expect Error\n",
        "# when grade = \"lol skool sucks\" # -> expect Error\n",
        "if grade >= 90:\n",
        "  print('A')\n",
        "elif grade >= 80:\n",
        "  print('B')\n",
        "elif grade >= 70:\n",
        "  print('C')\n",
        "elif grade >= 60:\n",
        "  print('D')\n",
        "elif grade >= 0:\n",
        "  print('F')\n",
        "else: \n",
        "  print(\"something is wrong\")\n"
      ],
      "execution_count": 0,
      "outputs": [
        {
          "output_type": "stream",
          "text": [
            "F\n"
          ],
          "name": "stdout"
        }
      ]
    },
    {
      "cell_type": "markdown",
      "metadata": {
        "id": "HLfJLQFKVtoK",
        "colab_type": "text"
      },
      "source": [
        "\n",
        "\n",
        "### P2.PY\n",
        "\n",
        "\n"
      ]
    },
    {
      "cell_type": "code",
      "metadata": {
        "id": "g3fT3CxqVtoO",
        "colab_type": "code",
        "outputId": "433e6832-fd18-464f-acbb-25dbb3c2a57f",
        "colab": {
          "base_uri": "https://localhost:8080/",
          "height": 34
        }
      },
      "source": [
        "\"\"\"\n",
        "Sign of Product\n",
        "\"\"\"\n",
        "\n",
        "# Given three numbers, a, b, c, without multiplying, determine the sign of their product.\n",
        "\n",
        "# EXAMPLE: a = -5, b = 6, c = -4, print 1\n",
        "a = -5\n",
        "b = 6\n",
        "c = -4\n",
        "\n",
        "\n",
        "if (a < 0) and (b < 0) and (c < 0):\n",
        "  print (-1)\n",
        "elif (a > 0) and (b < 0) and (c < 0):\n",
        "  print (1)\n",
        "elif (a < 0) and (b > 0) and (c < 0):     \n",
        "  print (1)\n",
        "elif (a < 0) and (b < 0) and (c > 0):\n",
        "  print (1)\n",
        "else:\n",
        "  print(-1)    \n",
        "# EXAMPLE: a = 5, b = 6, c = -4, print -1\n"
      ],
      "execution_count": 0,
      "outputs": [
        {
          "output_type": "stream",
          "text": [
            "1\n"
          ],
          "name": "stdout"
        }
      ]
    },
    {
      "cell_type": "markdown",
      "metadata": {
        "id": "eUuhYKriVtoS",
        "colab_type": "text"
      },
      "source": [
        "\n",
        "\n",
        "### P3.PY\n",
        "\n",
        "\n"
      ]
    },
    {
      "cell_type": "code",
      "metadata": {
        "id": "gtAMAAaYVtoT",
        "colab_type": "code",
        "outputId": "5660231b-27ac-4ab8-88c0-b4b74115e503",
        "colab": {
          "base_uri": "https://localhost:8080/",
          "height": 34
        }
      },
      "source": [
        "\"\"\"\n",
        "Any Uppercase\n",
        "\"\"\"\n",
        "\n",
        "# Given a string str, determine if there are any uppercase values in it. Use only conditional statements and string methods (you may have to look some up!)\n",
        "\n",
        "# EXAMPLE: str = \"teSt\", print True\n",
        "\n",
        "str = 'teSt'\n",
        "\n",
        "if any(x.isupper() for x in str):\n",
        "  print('there is an uppercase')\n",
        "else:\n",
        "  print('there is no uppercase')\n"
      ],
      "execution_count": 46,
      "outputs": [
        {
          "output_type": "stream",
          "text": [
            "there is an uppercase\n"
          ],
          "name": "stdout"
        }
      ]
    },
    {
      "cell_type": "markdown",
      "metadata": {
        "id": "wG8CE6QTVtoW",
        "colab_type": "text"
      },
      "source": [
        "\n",
        "\n",
        "### P4.PY\n",
        "\n",
        "\n"
      ]
    },
    {
      "cell_type": "code",
      "metadata": {
        "id": "xZ5Mt4jSVtoX",
        "colab_type": "code",
        "colab": {
          "base_uri": "https://localhost:8080/",
          "height": 34
        },
        "outputId": "d11c1728-91fe-491e-8f8e-84625b0d1c56"
      },
      "source": [
        "\"\"\"\n",
        "Empty Strings\n",
        "\"\"\"\n",
        "\n",
        "# Given any empty string, of the form:\n",
        "\n",
        "# ''\n",
        "# ' '\n",
        "# '  '\n",
        "# any other num of spaces...\n",
        "\n",
        "str = '  '\n",
        "\n",
        "stripped = str.strip()\n",
        "if len(stripped) == 0:\n",
        "  print('True')\n",
        "else:\n",
        "  print('False')\n",
        "\n",
        "\n",
        "\n",
        "\n",
        "# determine if the str is empty or not (print True or False). Hint: You'll need to look up how to remove trailing spaces from a string.\n"
      ],
      "execution_count": 88,
      "outputs": [
        {
          "output_type": "stream",
          "text": [
            "True\n"
          ],
          "name": "stdout"
        }
      ]
    },
    {
      "cell_type": "markdown",
      "metadata": {
        "id": "WlgQdALoVtof",
        "colab_type": "text"
      },
      "source": [
        "\n",
        "\n",
        "### P5.PY\n",
        "\n",
        "\n"
      ]
    },
    {
      "cell_type": "code",
      "metadata": {
        "id": "7_k9rebsVtog",
        "colab_type": "code",
        "colab": {
          "base_uri": "https://localhost:8080/",
          "height": 85
        },
        "outputId": "6c436e89-96ee-485b-ce16-746a2d051e6f"
      },
      "source": [
        "\"\"\"\n",
        "truthTableEvaluator\n",
        "\"\"\"\n",
        "\n",
        "# Given the following inputs:\n",
        "\n",
        "\n",
        "# P = # True or False\n",
        "# Q = # True or False\n",
        "# op = # '^' (logical AND, conjunction)\n",
        "#      # OR, 'v' (logical OR, disjunction)\n",
        "#      # OR, '->' (logical conditional, implication)\n",
        "#      # OR, '<->' (biconditional)\n",
        "# determine the correct outcome.\n",
        "P = False\n",
        "Q = True\n",
        "\n",
        "if P == True and Q == True:\n",
        "  print('P^Q True')\n",
        "else:\n",
        "  print('P^Q False')\n",
        "if P == True or Q == True:\n",
        "  print('PvQ True')\n",
        "else:\n",
        "  print('PvQ False')\n",
        "if P == True and Q == False:\n",
        "  print('P->Q False')\n",
        "else:\n",
        "  print('P->Q True')\n",
        "if P == True and Q == True:\n",
        "  print('P<->Q True')\n",
        "elif P == False and Q == False:\n",
        "  print('P<->Q True')\n",
        "else:\n",
        "  print('P<->Q False')\n",
        "# https://medium.com/i-math/intro-to-truth-tables-boolean-algebra-73b331dd9b94\n"
      ],
      "execution_count": 96,
      "outputs": [
        {
          "output_type": "stream",
          "text": [
            "P^Q False\n",
            "PvQ True\n",
            "P->Q True\n",
            "P<->Q False\n"
          ],
          "name": "stdout"
        }
      ]
    },
    {
      "cell_type": "markdown",
      "metadata": {
        "id": "zayFQdU7Vto2",
        "colab_type": "text"
      },
      "source": [
        "## RANDOM NUMBERS\n",
        "\n",
        "\n",
        "\n",
        "\n"
      ]
    },
    {
      "cell_type": "markdown",
      "metadata": {
        "id": "gtAK4fQAV9BC",
        "colab_type": "text"
      },
      "source": [
        "### P1.PY"
      ]
    },
    {
      "cell_type": "code",
      "metadata": {
        "id": "_dlFvP4QVto3",
        "colab_type": "code",
        "outputId": "3143cc03-1a9e-4625-b255-c45734b08104",
        "colab": {
          "base_uri": "https://localhost:8080/",
          "height": 34
        }
      },
      "source": [
        "\"\"\"\n",
        "Generate Traffic Light\n",
        "\"\"\"\n",
        "\n",
        "\n",
        "from random import randint\n",
        "randn = randint(1, 3)\n",
        "\n",
        "if randn == 1:\n",
        "  print('red')\n",
        "if randn == 2:\n",
        "  print('green')\n",
        "if randn == 3:\n",
        "  print('yellow')  \n",
        "\n",
        "\n"
      ],
      "execution_count": 0,
      "outputs": [
        {
          "output_type": "stream",
          "text": [
            "green\n"
          ],
          "name": "stdout"
        }
      ]
    },
    {
      "cell_type": "markdown",
      "metadata": {
        "id": "nO0LSd8SVto5",
        "colab_type": "text"
      },
      "source": [
        "\n",
        "\n",
        "### P2.PY\n",
        "\n",
        "\n"
      ]
    },
    {
      "cell_type": "code",
      "metadata": {
        "id": "Dp5jFc2fVtpF",
        "colab_type": "code",
        "colab": {
          "base_uri": "https://localhost:8080/",
          "height": 34
        },
        "outputId": "546b5240-5181-4035-cbc9-a60e005c3ff2"
      },
      "source": [
        "\"\"\"\n",
        "Generate Phone Number w/Area Code\n",
        "\"\"\"\n",
        "\n",
        "# Generate a random phone number using these SPECS:\n",
        "### Should be a string in this format: 1-718-786-2825\n",
        "### Must randomly choose one of these area codes: 646, 718, 212\n",
        "\n",
        "\n",
        "from random import randint\n",
        "\n",
        "first = ('646','718','212')\n",
        "second = randint(100,999)\n",
        "third = randint(1000,9999)\n",
        "print('1 -',random.choice(first),'-',second,'-',third)\n",
        "\n",
        "#tried to strip to cut out the spaces but had trouble figuring that out."
      ],
      "execution_count": 193,
      "outputs": [
        {
          "output_type": "stream",
          "text": [
            "1 - 646 - 756 - 2552\n"
          ],
          "name": "stdout"
        }
      ]
    },
    {
      "cell_type": "markdown",
      "metadata": {
        "id": "gRweE3nDVtpK",
        "colab_type": "text"
      },
      "source": [
        "## RPS\n",
        "\n",
        "\n"
      ]
    },
    {
      "cell_type": "code",
      "metadata": {
        "id": "zvo5oOGcaz8g",
        "colab_type": "code",
        "colab": {}
      },
      "source": [
        ""
      ],
      "execution_count": 0,
      "outputs": []
    },
    {
      "cell_type": "markdown",
      "metadata": {
        "id": "IFUwrDumV_Vn",
        "colab_type": "text"
      },
      "source": [
        "### P1.PY"
      ]
    },
    {
      "cell_type": "code",
      "metadata": {
        "id": "sYTmAYzDVtpL",
        "colab_type": "code",
        "colab": {
          "base_uri": "https://localhost:8080/",
          "height": 34
        },
        "outputId": "3159a569-ee4c-491c-bd79-cb582d7f801e"
      },
      "source": [
        "\"\"\"\n",
        "Play RPS\n",
        "\"\"\"\n",
        "\n",
        "p1 = 'r'  # or 'p' or 's'\n",
        "p2 = 's'  # or 'p' or 's'\n",
        "\n",
        "if p1 == 'r' and p2 == 'r':\n",
        "  print('0')\n",
        "elif p1 == 'r' and p2 == 's':\n",
        "  print('p1 has won')\n",
        "elif p1 == 'r' and p2 == 'p':\n",
        "  print('p2 has won')\n",
        "elif p1 == 's' and p2 == 's':\n",
        "  print('0')\n",
        "elif p1 == 'p' and p2 == 'p':\n",
        "  print('0')\n",
        "elif p1 == 's' and p2 == 'r':\n",
        "  print('p2 has won')\n",
        "elif p1 == 's' and p2 == 'p':\n",
        "  print('p1 has won')\n",
        "elif p1 == 'p' and p2 == 's':\n",
        "  print('p2 has won')\n",
        "elif p1 == 'p' and p2 == 'r':\n",
        "  print('p1 has won')\n",
        "\n",
        "# Given a p1 and p2\n",
        "# print 1 if p1 has won\n",
        "# print 2 if p2 has won\n",
        "# print 0 if tie\n",
        "# print -1 if invalid input\n",
        "# expects both p1 and p2 inputs to be either\n",
        "# \"r\", \"p\", or \"s\"\n"
      ],
      "execution_count": 234,
      "outputs": [
        {
          "output_type": "stream",
          "text": [
            "p1 has won\n"
          ],
          "name": "stdout"
        }
      ]
    },
    {
      "cell_type": "markdown",
      "metadata": {
        "id": "fp77AykMVtpN",
        "colab_type": "text"
      },
      "source": [
        "\n",
        "\n",
        "### P2.PY\n",
        "\n",
        "\n"
      ]
    },
    {
      "cell_type": "code",
      "metadata": {
        "id": "mKMaxGH8VtpO",
        "colab_type": "code",
        "colab": {
          "base_uri": "https://localhost:8080/",
          "height": 34
        },
        "outputId": "f3c09ac3-51d1-43bb-ba6c-3c127fdd5673"
      },
      "source": [
        "\"\"\"\n",
        "Play RPS w/Computer\n",
        "\"\"\"\n",
        "\n",
        "import random\n",
        "\n",
        "p1 = ('r','p','s')  # randomly choose 'r' or 'p' or 's'\n",
        "p2 = ('r','p','s') # randomly choose 'r' or 'p' or 's'\n",
        "\n",
        "P1 = random.choice(p1)\n",
        "P2 = random.choice(p2)\n",
        "\n",
        "if P1 == 'r' and P2 == 'r':\n",
        "  print('0')\n",
        "elif P1 == 'r' and P2 == 's':\n",
        "  print('p1 has won')\n",
        "elif P1 == 'r' and P2 == 'p':\n",
        "  print('p2 has won')\n",
        "elif P1 == 's' and P2 == 's':\n",
        "  print('0')\n",
        "elif P1 == 'p' and P2 == 'p':\n",
        "  print('0')\n",
        "elif P1 == 's' and P2 == 'r':\n",
        "  print('p2 has won')\n",
        "elif P1 == 's' and P2 == 'p':\n",
        "  print('p1 has won')\n",
        "elif P1 == 'p' and P2 == 's':\n",
        "  print('p2 has won')\n",
        "elif P1 == 'p' and P2 == 'r':\n",
        "  print('p1 has won')\n",
        "\n"
      ],
      "execution_count": 247,
      "outputs": [
        {
          "output_type": "stream",
          "text": [
            "p1 has won\n"
          ],
          "name": "stdout"
        }
      ]
    },
    {
      "cell_type": "markdown",
      "metadata": {
        "id": "INgOFvdoVtpU",
        "colab_type": "text"
      },
      "source": [
        "\n",
        "\n",
        "### P3.PY\n",
        "\n",
        "\n"
      ]
    },
    {
      "cell_type": "code",
      "metadata": {
        "id": "vhAAHjMSVtpV",
        "colab_type": "code",
        "colab": {
          "base_uri": "https://localhost:8080/",
          "height": 68
        },
        "outputId": "78d99ac1-c954-43d9-afb6-804a16cd4ee3"
      },
      "source": [
        "\"\"\"\n",
        "Play RPS w/Input\n",
        "\"\"\"\n",
        "\n",
        "p1 = input('Player 1:')  # from user input\n",
        "p2 = input('Player 2:') # from user input\n",
        "\n",
        "if p1 == 'r' and p2 == 'r':\n",
        "  print('0')\n",
        "elif p1 == 'r' and p2 == 's':\n",
        "  print('p1 has won')\n",
        "elif p1 == 'r' and p2 == 'p':\n",
        "  print('p2 has won')\n",
        "elif p1 == 's' and p2 == 's':\n",
        "  print('0')\n",
        "elif p1 == 'p' and p2 == 'p':\n",
        "  print('0')\n",
        "elif p1 == 's' and p2 == 'r':\n",
        "  print('p2 has won')\n",
        "elif p1 == 's' and p2 == 'p':\n",
        "  print('p1 has won')\n",
        "elif p1 == 'p' and p2 == 's':\n",
        "  print('p2 has won')\n",
        "elif p1 == 'p' and p2 == 'r':\n",
        "  print('p1 has won')\n",
        "else:\n",
        "  print('-1')\n",
        "# Given a p1 and p2\n",
        "# print 1 if p1 has won\n",
        "# print 2 if p2 has won\n",
        "# print 0 if tie\n",
        "# print -1 if invalid input\n",
        "# expects both p1 and p2 inputs to be either\n",
        "# \"r\", \"p\", or \"s\"\n"
      ],
      "execution_count": 4,
      "outputs": [
        {
          "output_type": "stream",
          "text": [
            "Player 1:rock\n",
            "Player 2:s\n",
            "-1\n"
          ],
          "name": "stdout"
        }
      ]
    },
    {
      "cell_type": "markdown",
      "metadata": {
        "id": "SUqNu57OVtpY",
        "colab_type": "text"
      },
      "source": [
        "\n",
        "\n",
        "### P4.PY\n",
        "\n",
        "\n"
      ]
    },
    {
      "cell_type": "code",
      "metadata": {
        "id": "Vmlr5AqSVtpY",
        "colab_type": "code",
        "colab": {
          "base_uri": "https://localhost:8080/",
          "height": 51
        },
        "outputId": "eb0d9ec9-f261-4a74-e706-a9750360de9f"
      },
      "source": [
        "\"\"\"\n",
        "Play RPS against Computer\n",
        "\"\"\"\n",
        "import random\n",
        "\n",
        "p1 = input('Player 1:')  # from user input - we still want validation from above!\n",
        "P2 = ('r','s','p')\n",
        "p2 = random.choice(P2)\n",
        "\n",
        "if p1 == 'r' and p2 == 'r':\n",
        "  print('0')\n",
        "elif p1 == 'r' and p2 == 's':\n",
        "  print('p1 has won')\n",
        "elif p1 == 'r' and p2 == 'p':\n",
        "  print('p2 has won')\n",
        "elif p1 == 's' and p2 == 's':\n",
        "  print('0')\n",
        "elif p1 == 'p' and p2 == 'p':\n",
        "  print('0')\n",
        "elif p1 == 's' and p2 == 'r':\n",
        "  print('p2 has won')\n",
        "elif p1 == 's' and p2 == 'p':\n",
        "  print('p1 has won')\n",
        "elif p1 == 'p' and p2 == 's':\n",
        "  print('p2 has won')\n",
        "elif p1 == 'p' and p2 == 'r':\n",
        "  print('p1 has won')\n",
        "else:\n",
        "  print('-1')\n",
        "\n",
        "  # randomly generated against computer\n",
        "\n",
        "# Given a p1 and p2\n",
        "# print 1 if p1 has won\n",
        "# print 2 if p2 has won\n",
        "# print 0 if tie\n",
        "# print -1 if invalid input\n",
        "# expects both p1 and p2 inputs to be either\n",
        "# \"r\", \"p\", or \"s\"\n"
      ],
      "execution_count": 39,
      "outputs": [
        {
          "output_type": "stream",
          "text": [
            "Player 1:s\n",
            "p2 has won\n"
          ],
          "name": "stdout"
        }
      ]
    },
    {
      "cell_type": "markdown",
      "metadata": {
        "id": "F_7aaMtoVtpt",
        "colab_type": "text"
      },
      "source": [
        "\n",
        "\n",
        "### P5.PY\n",
        "\n",
        "\n"
      ]
    },
    {
      "cell_type": "code",
      "metadata": {
        "id": "U24EGu3VVtpu",
        "colab_type": "code",
        "colab": {
          "base_uri": "https://localhost:8080/",
          "height": 136
        },
        "outputId": "54616fba-9bb3-45cf-a8fa-994c1ce19490"
      },
      "source": [
        "\"\"\"\n",
        "Play RPS w/Bad Input\n",
        "\"\"\"\n",
        "options = 'rps'\n",
        "while True:\n",
        "  p1 = input('Player 1:')\n",
        "  if all(char in options for char in p1):\n",
        "    break\n",
        "  print('Not valid, must be r, p or s')\n",
        "\n",
        "while True:\n",
        "  p2 = input('Player 2:')\n",
        "  if all(char in options for char in p2):\n",
        "    break\n",
        "  print('Not valid, must be r, p or s')\n",
        "\n",
        "if p1 == 'r' and p2 == 'r':\n",
        "  print('0')\n",
        "elif p1 == 'r' and p2 == 's':\n",
        "  print('p1 has won')\n",
        "elif p1 == 'r' and p2 == 'p':\n",
        "  print('p2 has won')\n",
        "elif p1 == 's' and p2 == 's':\n",
        "  print('0')\n",
        "elif p1 == 'p' and p2 == 'p':\n",
        "  print('0')\n",
        "elif p1 == 's' and p2 == 'r':\n",
        "  print('p2 has won')\n",
        "elif p1 == 's' and p2 == 'p':\n",
        "  print('p1 has won')\n",
        "elif p1 == 'p' and p2 == 's':\n",
        "  print('p2 has won')\n",
        "elif p1 == 'p' and p2 == 'r':\n",
        "  print('p1 has won')\n",
        "else:\n",
        "  print('-1')  \n",
        "# \"\"\"\n",
        "# This is the same as the original RPS problem, \n",
        "# except that cannot expect the input to be valid. \n",
        "# While we *want* `r` or `p` or `s`, there is a possibility \n",
        "# that input can be anything like...\n",
        "\n",
        "# * `ROCK` (all caps)\n",
        "# * `R` (`r` but capitalized)\n",
        "# * `PAPrrRR` (incorrectly spelled, upper/lowercased)\n",
        "\n",
        "# Implement conditional statements that will sanitize the \n",
        "# user input or let user know that input is invalid.\n",
        "\n"
      ],
      "execution_count": 59,
      "outputs": [
        {
          "output_type": "stream",
          "text": [
            "Player 1:f\n",
            "Not valid, must be r, p or s\n",
            "Player 1:r\n",
            "Player 2:f\n",
            "Not valid, must be r, p or s\n",
            "Player 2:s\n",
            "p1 has won\n"
          ],
          "name": "stdout"
        }
      ]
    }
  ]
}