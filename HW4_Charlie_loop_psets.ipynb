{
  "nbformat": 4,
  "nbformat_minor": 0,
  "metadata": {
    "colab": {
      "name": "Copy of loop_psets.ipynb",
      "provenance": [],
      "collapsed_sections": [
        "uVRP-haTUEUp",
        "qujIvC8iUFsS",
        "NZoDldAJT-ZZ",
        "JiG0W3n3T-Ze",
        "337FvlPKUNqp",
        "aeUUzlj2T-Z5",
        "DGA_yKgt7KuB",
        "34_iw8-4T-Zl",
        "XQbSY6kYT-Zo",
        "HvXqnAyuT-Z8",
        "OU_s6uQgUQf-",
        "FSN_Wqyf8UnQ",
        "kE68tEQnT-aE",
        "I-A5Y-oo8Una",
        "wtaxsnSST-aH",
        "l7AOi4Xa8Une",
        "pCsSUlIBT-aK"
      ],
      "include_colab_link": true
    },
    "kernelspec": {
      "name": "python3",
      "display_name": "Python 3"
    }
  },
  "cells": [
    {
      "cell_type": "markdown",
      "metadata": {
        "id": "view-in-github",
        "colab_type": "text"
      },
      "source": [
        "<a href=\"https://colab.research.google.com/github/wcharlesknight/PYTH225_Homework/blob/master/HW4_Charlie_loop_psets.ipynb\" target=\"_parent\"><img src=\"https://colab.research.google.com/assets/colab-badge.svg\" alt=\"Open In Colab\"/></a>"
      ]
    },
    {
      "cell_type": "markdown",
      "metadata": {
        "id": "rvLI0ikiT-ZV",
        "colab_type": "text"
      },
      "source": [
        "#  LOOPS"
      ]
    },
    {
      "cell_type": "markdown",
      "metadata": {
        "id": "uVRP-haTUEUp",
        "colab_type": "text"
      },
      "source": [
        "## BASICS"
      ]
    },
    {
      "cell_type": "markdown",
      "metadata": {
        "id": "qujIvC8iUFsS",
        "colab_type": "text"
      },
      "source": [
        "### P1.PY"
      ]
    },
    {
      "cell_type": "code",
      "metadata": {
        "id": "RiZnK5MMT-ZW",
        "colab_type": "code",
        "colab": {
          "base_uri": "https://localhost:8080/",
          "height": 51
        },
        "outputId": "ab951ce3-718d-41a0-eda1-e978d7ab6f67"
      },
      "source": [
        "\"\"\"\n",
        "Odds & Evens\n",
        "\"\"\"\n",
        "\n",
        "# Use a loop to make a list of all odd numbers between 1 and 10 and another list with all the evens. When done, print the lists.\n",
        "\n",
        "odds = []\n",
        "evens = []\n",
        "\n",
        "i = 1\n",
        "\n",
        "while i <= 10:\n",
        "  if i % 2 != 0:\n",
        "    odds.append(i)\n",
        "  else:\n",
        "    evens.append(i)\n",
        "  i += 1\n",
        "\n",
        "print(odds)\n",
        "print(evens)"
      ],
      "execution_count": 3,
      "outputs": [
        {
          "output_type": "stream",
          "text": [
            "[1, 3, 5, 7, 9]\n",
            "[2, 4, 6, 8, 10]\n"
          ],
          "name": "stdout"
        }
      ]
    },
    {
      "cell_type": "markdown",
      "metadata": {
        "id": "NZoDldAJT-ZZ",
        "colab_type": "text"
      },
      "source": [
        "\n",
        "\n",
        "### P2.PY\n",
        "\n",
        "\n"
      ]
    },
    {
      "cell_type": "code",
      "metadata": {
        "id": "6BxOPOuET-Za",
        "colab_type": "code",
        "colab": {
          "base_uri": "https://localhost:8080/",
          "height": 68
        },
        "outputId": "09bc6afd-9821-4764-8601-48774a44bbbb"
      },
      "source": [
        "\"\"\"\n",
        "Lists with Duplicates\n",
        "\"\"\"\n",
        "\n",
        "# First, print list a below as it is now.\n",
        "\n",
        "a = [2, 4, 10, 20, 5, 2, 20, 4]\n",
        "b = [13, 2, 25, 20, 4, 8]\n",
        "\n",
        "print(a)\n",
        "# Using a loop, remove the duplicate items from list a and print out the updated list.\n",
        "new_a = []\n",
        "for digit in a:\n",
        "  if digit not in new_a:\n",
        "    new_a.append(digit)\n",
        "print(new_a)\n",
        "\n",
        "# Using a loop, merge list b into list a without adding any duplicates.\n",
        "\n",
        "for digit in b:\n",
        "  if digit not in new_a:\n",
        "    new_a.append(digit)\n",
        "print(new_a)\n"
      ],
      "execution_count": 12,
      "outputs": [
        {
          "output_type": "stream",
          "text": [
            "[2, 4, 10, 20, 5, 2, 20, 4]\n",
            "[2, 4, 10, 20, 5]\n",
            "[2, 4, 10, 20, 5, 13, 25, 8]\n"
          ],
          "name": "stdout"
        }
      ]
    },
    {
      "cell_type": "markdown",
      "metadata": {
        "id": "JiG0W3n3T-Ze",
        "colab_type": "text"
      },
      "source": [
        "\n",
        "\n",
        "### P3.PY\n",
        "\n",
        "\n"
      ]
    },
    {
      "cell_type": "code",
      "metadata": {
        "id": "PZY5tAw4T-Zf",
        "colab_type": "code",
        "colab": {
          "base_uri": "https://localhost:8080/",
          "height": 102
        },
        "outputId": "85e9580f-ba40-4957-e569-9728a1120fe3"
      },
      "source": [
        "\"\"\"\n",
        "Temperature Conversions\n",
        "\"\"\"\n",
        "\n",
        "# You're studying climate change, and over the last 3 years, you've recorded the temperature \n",
        "# at noon every day in degrees Fahrenheit (F). The var sampleF holds a portion of those recordings. \n",
        "\n",
        "sampleF = [71.6, 82.4, 91.4, 107.6, 125.6]\n",
        "\n",
        "# Convert each item in this list into degrees Celsius and add the results to a dict called \n",
        "# sample_temps so that the conversion of each day's temperature is easily accessible. \n",
        "# For reference, the conversion equation between F and C is:\n",
        "\n",
        "\n",
        "sampleC = {}\n",
        "for index, f in enumerate(sampleF):\n",
        "  c = (f - 32)* 5.0/9.0\n",
        "  sampleC.update({index:c})\n",
        "  print('Day', index,'Celius =', c,'Farhenheit =',f)\n",
        "\n",
        "\n",
        "sample_temps = dict(zip(sampleF,sampleC))\n",
        "\n",
        "\n",
        "\n",
        "\n",
        "\n",
        "\n",
        "\n"
      ],
      "execution_count": 14,
      "outputs": [
        {
          "output_type": "stream",
          "text": [
            "Day 0 Celius = 21.999999999999996 Farhenheit = 71.6\n",
            "Day 1 Celius = 28.000000000000004 Farhenheit = 82.4\n",
            "Day 2 Celius = 33.0 Farhenheit = 91.4\n",
            "Day 3 Celius = 42.0 Farhenheit = 107.6\n",
            "Day 4 Celius = 52.0 Farhenheit = 125.6\n"
          ],
          "name": "stdout"
        }
      ]
    },
    {
      "cell_type": "markdown",
      "metadata": {
        "id": "337FvlPKUNqp",
        "colab_type": "text"
      },
      "source": [
        "### P4.PY"
      ]
    },
    {
      "cell_type": "code",
      "metadata": {
        "id": "00D_V8BnT-Z2",
        "colab_type": "code",
        "colab": {
          "base_uri": "https://localhost:8080/",
          "height": 255
        },
        "outputId": "06c162e5-63d7-45ca-c252-79f8db39fff6"
      },
      "source": [
        "\"\"\"\n",
        "Control Flow - I\n",
        "\n",
        "Print the numbers in some range until you find a multiple of 7. \n",
        "At that point, print \"___ is the first multiple of 7 in this \n",
        "range.\" If the range does NOT include any multiples of 7, after \n",
        "you've printed the last number in the range, print \"There are \n",
        "no multiples of 7 in this range.\n",
        "\"\"\"\n",
        "for x in range(100):\n",
        "  if (x / 7).is_integer() and x != 0:\n",
        "    print(x, 'this is a multiple of 7')\n",
        "\n"
      ],
      "execution_count": 34,
      "outputs": [
        {
          "output_type": "stream",
          "text": [
            "7 this is a multiple of 7\n",
            "14 this is a multiple of 7\n",
            "21 this is a multiple of 7\n",
            "28 this is a multiple of 7\n",
            "35 this is a multiple of 7\n",
            "42 this is a multiple of 7\n",
            "49 this is a multiple of 7\n",
            "56 this is a multiple of 7\n",
            "63 this is a multiple of 7\n",
            "70 this is a multiple of 7\n",
            "77 this is a multiple of 7\n",
            "84 this is a multiple of 7\n",
            "91 this is a multiple of 7\n",
            "98 this is a multiple of 7\n"
          ],
          "name": "stdout"
        }
      ]
    },
    {
      "cell_type": "markdown",
      "metadata": {
        "id": "aeUUzlj2T-Z5",
        "colab_type": "text"
      },
      "source": [
        "\n",
        "\n",
        "### P5.PY\n",
        "\n",
        "\n"
      ]
    },
    {
      "cell_type": "code",
      "metadata": {
        "id": "BXM9shfoT-Z5",
        "colab_type": "code",
        "colab": {
          "base_uri": "https://localhost:8080/",
          "height": 102
        },
        "outputId": "36026b0d-ddd1-4bdc-93b7-739ef6efd317"
      },
      "source": [
        "\"\"\"\n",
        "Control Flow II\n",
        "\n",
        "Write a Python program that prints all the numbers from \n",
        "0 to 6 except 3 and 6. Note: Use a 'continue' statement. \n",
        "\"\"\"\n",
        "\n",
        "for x in range(6):\n",
        " if x == 3:\n",
        "   continue\n",
        " print(x)\n"
      ],
      "execution_count": 44,
      "outputs": [
        {
          "output_type": "stream",
          "text": [
            "0\n",
            "1\n",
            "2\n",
            "4\n",
            "5\n"
          ],
          "name": "stdout"
        }
      ]
    },
    {
      "cell_type": "markdown",
      "metadata": {
        "id": "DGA_yKgt7KuB",
        "colab_type": "text"
      },
      "source": [
        "## FACTORS"
      ]
    },
    {
      "cell_type": "markdown",
      "metadata": {
        "id": "1WCBfmzxT-Zi",
        "colab_type": "text"
      },
      "source": [
        "\n",
        "\n",
        "### P1.PY\n",
        "\n",
        "\n"
      ]
    },
    {
      "cell_type": "code",
      "metadata": {
        "id": "D3n41TY3T-Zi",
        "colab_type": "code",
        "colab": {
          "base_uri": "https://localhost:8080/",
          "height": 85
        },
        "outputId": "97a79082-c3f8-464c-b3cf-c7e01cbcab9f"
      },
      "source": [
        "\"\"\"\n",
        "Factorial\n",
        "\"\"\"\n",
        "\n",
        "# Find the factorial of a number input by a user. \n",
        "# Then print out the factors within the factorial and then print out the actual numeric answer. \n",
        "# Hint: The formula for a factorial is n! = (n-1)*n.\n",
        "\n",
        "\n",
        "# Example output:\n",
        "\"\"\"\n",
        "8! = 8*7*6*5*4*3*2*1\n",
        "8! = 40320\n",
        "\"\"\"\n",
        "\n",
        "\n",
        "\n",
        "user_input = int(input('Enter a number to find its factorial:'))\n",
        "factorial = 1\n",
        "for x in range(1, user_input + 1):\n",
        "  factorial = factorial * x\n",
        "  print(f'{user_input}! =',f'{x}*',end='')\n",
        "print('\\n',user_input,'! =',factorial)\n",
        " \n",
        "\n",
        "\n",
        "\n",
        "print('couldnt figure out formatting')\n",
        "\n",
        "\n"
      ],
      "execution_count": 59,
      "outputs": [
        {
          "output_type": "stream",
          "text": [
            "Enter a number to find its factorial:7\n",
            "7! = 1*7! = 2*7! = 3*7! = 4*7! = 5*7! = 6*7! = 7*\n",
            " 7 ! = 5040\n",
            "couldnt figure out formatting\n"
          ],
          "name": "stdout"
        }
      ]
    },
    {
      "cell_type": "markdown",
      "metadata": {
        "id": "34_iw8-4T-Zl",
        "colab_type": "text"
      },
      "source": [
        "\n",
        "\n",
        "### P2.PY\n",
        "\n",
        "\n"
      ]
    },
    {
      "cell_type": "code",
      "metadata": {
        "id": "EnPbAafST-Zm",
        "colab_type": "code",
        "colab": {
          "base_uri": "https://localhost:8080/",
          "height": 102
        },
        "outputId": "fcd0a4c3-9413-4f75-9382-af542996a4e8"
      },
      "source": [
        "\"\"\"\n",
        "Factors\n",
        "\"\"\"\n",
        "\n",
        "# Find all factors of a number that a user inputs and print out \n",
        "# 'The factors of <the_user_input_number> are: '.\n",
        "\n",
        "user_input = int(input('Enter a number to find its factors: '))\n",
        "x = 1 \n",
        "print(f'The factors of {user_input} are')\n",
        "\n",
        "while x <= user_input:\n",
        "  if user_input % x == 0:\n",
        "    print(x)\n",
        "  x = x + 1   "
      ],
      "execution_count": 98,
      "outputs": [
        {
          "output_type": "stream",
          "text": [
            "Enter a number to find its factors: 25\n",
            "The factors of 25 are\n",
            "1\n",
            "5\n",
            "25\n"
          ],
          "name": "stdout"
        }
      ]
    },
    {
      "cell_type": "markdown",
      "metadata": {
        "id": "XQbSY6kYT-Zo",
        "colab_type": "text"
      },
      "source": [
        "\n",
        "\n",
        "### P3.PY\n",
        "\n",
        "\n"
      ]
    },
    {
      "cell_type": "code",
      "metadata": {
        "id": "YFYeCVqWT-Zp",
        "colab_type": "code",
        "colab": {
          "base_uri": "https://localhost:8080/",
          "height": 85
        },
        "outputId": "d62476ee-ade9-42fb-fbb3-50ed5702a655"
      },
      "source": [
        "\"\"\"\n",
        "GCD\n",
        "\"\"\"\n",
        "\n",
        "# Find the greatest common denominator (GCD) of two number input by a user. \n",
        "# Then print out 'The GCD of <first number> and <second number> is <your result>.'\n",
        "\n",
        "print('Enter two numbers to find their greatest common denominator.')\n",
        "\n",
        "user_input1 = int(input('First number: '))\n",
        "user_input2 = int(input('Second number: '))\n",
        "\n",
        "i = 1\n",
        "while(i <= user_input1 and i <= user_input2):\n",
        "  if user_input1 % i == 0 and user_input2 % i == 0:\n",
        "    gcd = i\n",
        "  i += 1\n",
        "\n",
        "print(f'The greatest common demoinator of {user_input1} and {user_input2} is',gcd)    "
      ],
      "execution_count": 107,
      "outputs": [
        {
          "output_type": "stream",
          "text": [
            "Enter two numbers to find their greatest common denominator.\n",
            "First number: 45\n",
            "Second number: 55\n",
            "The greatest common demoinator of 45 and 55 is 5\n"
          ],
          "name": "stdout"
        }
      ]
    },
    {
      "cell_type": "markdown",
      "metadata": {
        "id": "HvXqnAyuT-Z8",
        "colab_type": "text"
      },
      "source": [
        "## SHAPES\n",
        "\n",
        "\n"
      ]
    },
    {
      "cell_type": "markdown",
      "metadata": {
        "id": "OU_s6uQgUQf-",
        "colab_type": "text"
      },
      "source": [
        "### P1.PY"
      ]
    },
    {
      "cell_type": "code",
      "metadata": {
        "id": "ruFtcQasT-Z9",
        "colab_type": "code",
        "colab": {
          "base_uri": "https://localhost:8080/",
          "height": 102
        },
        "outputId": "3b8e053c-be7c-4333-9c08-513d837be56d"
      },
      "source": [
        "\"\"\"\n",
        "Build a Triangle I \n",
        "\n",
        "Use a FOR loop to print a triangle of stars that looks like this:\n",
        "\n",
        "*\n",
        "**\n",
        "***\n",
        "****\n",
        "*****\n",
        "\n",
        "\"\"\"\n",
        "for i in range(5):\n",
        "   for j in range(i + 1):\n",
        "      print('*', end=\"\")\n",
        "   print()"
      ],
      "execution_count": 109,
      "outputs": [
        {
          "output_type": "stream",
          "text": [
            "*\n",
            "**\n",
            "***\n",
            "****\n",
            "*****\n"
          ],
          "name": "stdout"
        }
      ]
    },
    {
      "cell_type": "markdown",
      "metadata": {
        "colab_type": "text",
        "id": "FSN_Wqyf8UnQ"
      },
      "source": [
        "### P2.PY"
      ]
    },
    {
      "cell_type": "code",
      "metadata": {
        "colab_type": "code",
        "id": "6oJisy5A8UnV",
        "colab": {
          "base_uri": "https://localhost:8080/",
          "height": 102
        },
        "outputId": "29641c8d-30cb-4223-9b10-649fd4b2ef2a"
      },
      "source": [
        "\"\"\"\n",
        "Build a Triangle II\n",
        "\n",
        "Use a WHILE loop to print a triangle of stars that looks like this:\n",
        "\n",
        "*\n",
        "**\n",
        "***\n",
        "****\n",
        "*****\n",
        "\n",
        "\"\"\"\n",
        "num_rows = 5\n",
        "row = 0 \n",
        "while row < num_rows:\n",
        "  x = row + 1\n",
        "  while x > 0:\n",
        "    print('*',end='')\n",
        "    x -= 1\n",
        "  row += 1\n",
        "  print()"
      ],
      "execution_count": 112,
      "outputs": [
        {
          "output_type": "stream",
          "text": [
            "*\n",
            "**\n",
            "***\n",
            "****\n",
            "*****\n"
          ],
          "name": "stdout"
        }
      ]
    },
    {
      "cell_type": "markdown",
      "metadata": {
        "id": "kE68tEQnT-aE",
        "colab_type": "text"
      },
      "source": [
        "\n",
        "\n",
        "### P3.PY\n",
        "\n",
        "\n"
      ]
    },
    {
      "cell_type": "code",
      "metadata": {
        "id": "n2pxG5J6T-aF",
        "colab_type": "code",
        "colab": {
          "base_uri": "https://localhost:8080/",
          "height": 102
        },
        "outputId": "90359f1e-3ef3-4b44-86b8-e47f3f10aaa2"
      },
      "source": [
        "\"\"\"\n",
        "Build a Pyramid I\n",
        "\n",
        "Use a FOR loop to print a pyramid of stars that looks like this:\n",
        "\n",
        "    *\n",
        "   ***\n",
        "  *****\n",
        " *******\n",
        "*********\n",
        "\"\"\"\n",
        "def full_pyramid(rows):\n",
        "    for i in range(rows):\n",
        "        print(' '*(rows-i-1) + '*'*(2*i+1))\n",
        "full_pyramid(5)"
      ],
      "execution_count": 100,
      "outputs": [
        {
          "output_type": "stream",
          "text": [
            "    *\n",
            "   ***\n",
            "  *****\n",
            " *******\n",
            "*********\n"
          ],
          "name": "stdout"
        }
      ]
    },
    {
      "cell_type": "markdown",
      "metadata": {
        "colab_type": "text",
        "id": "I-A5Y-oo8Una"
      },
      "source": [
        "### P4.PY\n"
      ]
    },
    {
      "cell_type": "code",
      "metadata": {
        "colab_type": "code",
        "id": "UwNy5b028Unb",
        "colab": {
          "base_uri": "https://localhost:8080/",
          "height": 102
        },
        "outputId": "2ae0b5ec-cdd5-441c-d816-3fd0d480c284"
      },
      "source": [
        "\"\"\"\n",
        "Build a Pyramid II\n",
        "\n",
        "Use a WHILE loop to print a pyramid of stars that looks like this:\n",
        "\n",
        "    *\n",
        "   ***\n",
        "  *****\n",
        " *******\n",
        "*********\n",
        "\n",
        "\"\"\"\n",
        "i=1\n",
        "while i<6:\n",
        "    if i==1:\n",
        "        print(' '*(6-i) + '*')\n",
        "    else:\n",
        "        print(' '*(6-i) + '*'*i + '*'*(i-1))\n",
        "    i+=1 "
      ],
      "execution_count": 104,
      "outputs": [
        {
          "output_type": "stream",
          "text": [
            "     *\n",
            "    ***\n",
            "   *****\n",
            "  *******\n",
            " *********\n"
          ],
          "name": "stdout"
        }
      ]
    },
    {
      "cell_type": "markdown",
      "metadata": {
        "id": "wtaxsnSST-aH",
        "colab_type": "text"
      },
      "source": [
        "\n",
        "\n",
        "### P5.PY\n",
        "\n",
        "\n"
      ]
    },
    {
      "cell_type": "code",
      "metadata": {
        "id": "fiYt3OQrT-aI",
        "colab_type": "code",
        "colab": {
          "base_uri": "https://localhost:8080/",
          "height": 170
        },
        "outputId": "0fa14dda-85bc-47cd-d966-f936ab92b517"
      },
      "source": [
        "\"\"\"\n",
        "Build a Diamond I\n",
        "\n",
        "Use a FOR loop to print a diamond of stars that looks like this:\n",
        "\n",
        "    *\n",
        "   ***\n",
        "  *****\n",
        " *******\n",
        "*********\n",
        " *******\n",
        "  *****\n",
        "   ***\n",
        "    *\n",
        "\"\"\"\n",
        "def full_pyramid(rows):\n",
        "    for i in range(rows):\n",
        "        print(' '*(rows-i-1) + '*'*(2*i+1))\n",
        "\n",
        "def inverted_pyramid(rows):\n",
        "    for i in reversed(range(rows)):\n",
        "        print(' '*(rows-i) + '*'*(2*i+1))\n",
        "\n",
        "full_pyramid(5)\n",
        "inverted_pyramid(4)"
      ],
      "execution_count": 101,
      "outputs": [
        {
          "output_type": "stream",
          "text": [
            "    *\n",
            "   ***\n",
            "  *****\n",
            " *******\n",
            "*********\n",
            " *******\n",
            "  *****\n",
            "   ***\n",
            "    *\n"
          ],
          "name": "stdout"
        }
      ]
    },
    {
      "cell_type": "markdown",
      "metadata": {
        "colab_type": "text",
        "id": "l7AOi4Xa8Une"
      },
      "source": [
        "### P6.PY"
      ]
    },
    {
      "cell_type": "code",
      "metadata": {
        "colab_type": "code",
        "id": "oK7nfy_D8Unj",
        "colab": {
          "base_uri": "https://localhost:8080/",
          "height": 187
        },
        "outputId": "8202a304-a18f-446b-bca7-affcb3c48568"
      },
      "source": [
        "\"\"\"\n",
        "Build a Diamond II\n",
        "\n",
        "Use a WHILE loop to print a diamond of stars that looks like this:\n",
        "\n",
        "    *\n",
        "   ***\n",
        "  *****\n",
        " *******\n",
        "*********\n",
        " *******\n",
        "  *****\n",
        "   ***\n",
        "    *\n",
        "\"\"\"\n",
        "rows = 5\n",
        "columns = 2*rows -1\n",
        "i = 0\n",
        "while i < rows:\n",
        "    j = 0\n",
        "    while j < columns :\n",
        "        if( (columns//2)-i <= j <= (columns//2)  +i):\n",
        "            print(\"*\",end = \"\")\n",
        "        else:\n",
        "            print(\" \",end = \"\")\n",
        "        \n",
        "        j+=1\n",
        "    print(\" \")\n",
        "    i+=1\n",
        "    \n",
        "i = 0\n",
        "while i < rows:\n",
        "    j = 0\n",
        "    while j < columns :\n",
        "        if( i <= j <= columns-1 -i):\n",
        "            print(\"*\",end = \"\")\n",
        "        else:\n",
        "            print(\" \",end = \"\")\n",
        "        \n",
        "        j+=1\n",
        "    print(\" \")\n",
        "    i+=1\n"
      ],
      "execution_count": 107,
      "outputs": [
        {
          "output_type": "stream",
          "text": [
            "    *     \n",
            "   ***    \n",
            "  *****   \n",
            " *******  \n",
            "********* \n",
            "********* \n",
            " *******  \n",
            "  *****   \n",
            "   ***    \n",
            "    *     \n"
          ],
          "name": "stdout"
        }
      ]
    },
    {
      "cell_type": "markdown",
      "metadata": {
        "id": "pCsSUlIBT-aK",
        "colab_type": "text"
      },
      "source": [
        "## LOOP_CHALLENGES\n",
        "\n"
      ]
    },
    {
      "cell_type": "markdown",
      "metadata": {
        "id": "jwd1KZXKUTAc",
        "colab_type": "text"
      },
      "source": [
        "### P1.PY"
      ]
    },
    {
      "cell_type": "code",
      "metadata": {
        "id": "cKlAnBVhT-aL",
        "colab_type": "code",
        "colab": {
          "base_uri": "https://localhost:8080/",
          "height": 51
        },
        "outputId": "18480ad9-2760-4cc4-b099-ccfe938bf73d"
      },
      "source": [
        "\"\"\"\n",
        "Valid Passwords\n",
        "\"\"\"\n",
        "\n",
        "# Check the validity of password input by users based on the below security requirements: \n",
        "# At least 1 letter between [a-z] and 1 letter between [A-Z].\n",
        "\"\"\"\n",
        "# At least 1 letter between [a-z] and 1 letter between [A-Z].\n",
        "#At least 1 number between [0-9].\n",
        "At least 1 character from [$#@].\n",
        "Minimum length 6 characters.\n",
        "Maximum length 16 characters.\n",
        "\"\"\"\n",
        "import re\n",
        "specialchar = '$#@'\n",
        "p = input('Input your password: ')\n",
        "if len(p) < 6 and len(p) > 16:\n",
        "   print('length has to be between 6 and 16')\n",
        "elif re.search('[0-9]',p) is None:\n",
        "   print('has to have at least 1 number')\n",
        "elif re.search('[A-Z]',p) is None:\n",
        "   print('has to have at least 1 upper case')\n",
        "elif re.search('[a-z]',p) is None:\n",
        "   print('has to have at least 1 lower case')\n",
        "elif any(specialchar) is None :\n",
        "   print ('has to have at least a $#@')\n",
        "else:\n",
        "   print('password is valid!')\n",
        "\n",
        "# Hint: Look up the documentation for the \"re\" library and it's \".search()\" method.\n",
        "\n",
        "# p = input(\"Input your password: \")"
      ],
      "execution_count": 115,
      "outputs": [
        {
          "output_type": "stream",
          "text": [
            "Input your password: factS-1\n",
            "password is valid!\n"
          ],
          "name": "stdout"
        }
      ]
    },
    {
      "cell_type": "markdown",
      "metadata": {
        "id": "lDd1dMe5T-aN",
        "colab_type": "text"
      },
      "source": [
        "\n",
        "\n",
        "### P2.PY\n",
        "\n",
        "\n"
      ]
    },
    {
      "cell_type": "code",
      "metadata": {
        "id": "n8kuflOLT-aR",
        "colab_type": "code",
        "colab": {
          "base_uri": "https://localhost:8080/",
          "height": 51
        },
        "outputId": "88c7d5c8-d492-4838-a361-1318a96a7d0f"
      },
      "source": [
        "\"\"\"\n",
        "Prime Numbers I\n",
        "\"\"\"\n",
        "\n",
        "# Check if a number input by a user is prime or not. \n",
        "# If it is NOT a prime number, print out that it is not a prime number. \n",
        "# If it IS a prime number, print out that it is a prime number and give an example of two of its factors. \n",
        "# Hint: Prime numbers must be greater than 1.\n",
        "\n",
        "# Example of output for a NON-prime:\n",
        "# 12 is not a prime number\n",
        "# For example, 2 x 6 = 12\n",
        "\n",
        "factorial = 1\n",
        "for x in range(1, user_input + 1):\n",
        "  factorial = factorial * x\n",
        "\n",
        "user_input = int(input(\"Enter a number to check if it's prime: \"))\n",
        "count = 0\n",
        "\n",
        "for i in range(2, (user_input//2 + 1)):\n",
        "    if(user_input % i == 0):\n",
        "        count = count + 1\n",
        "        break\n",
        "\n",
        "if (count == 0 and user_input != 1):\n",
        "    print(\" %d is a Prime Number\" %user_input)\n",
        "else:\n",
        "    print(\" %d is not a Prime Number\" %user_input,'factors are: ')\n"
      ],
      "execution_count": 131,
      "outputs": [
        {
          "output_type": "stream",
          "text": [
            "Enter a number to check if it's prime: 68\n",
            " 68 is not a Prime Number\n"
          ],
          "name": "stdout"
        }
      ]
    }
  ]
}