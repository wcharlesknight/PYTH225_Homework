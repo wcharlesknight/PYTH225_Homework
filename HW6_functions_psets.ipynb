{
  "nbformat": 4,
  "nbformat_minor": 0,
  "metadata": {
    "colab": {
      "name": "HW6_functions_psets.ipynb",
      "provenance": [],
      "collapsed_sections": [],
      "include_colab_link": true
    },
    "kernelspec": {
      "name": "python3",
      "display_name": "Python 3"
    }
  },
  "cells": [
    {
      "cell_type": "markdown",
      "metadata": {
        "id": "view-in-github",
        "colab_type": "text"
      },
      "source": [
        "<a href=\"https://colab.research.google.com/github/wcharlesknight/PYTH225_Homework/blob/master/HW6_functions_psets.ipynb\" target=\"_parent\"><img src=\"https://colab.research.google.com/assets/colab-badge.svg\" alt=\"Open In Colab\"/></a>"
      ]
    },
    {
      "cell_type": "markdown",
      "metadata": {
        "id": "43e1PgRyNeyZ",
        "colab_type": "text"
      },
      "source": [
        "<a href=\"https://colab.research.google.com/github/mottaquikarim/PYTH2/blob/master/src/PSETS/nb/classes_psets.ipynb\" target=\"_parent\"><img src=\"https://colab.research.google.com/assets/colab-badge.svg\" alt=\"Open In Colab\"/></a>"
      ]
    },
    {
      "cell_type": "markdown",
      "metadata": {
        "id": "_IvyUuPjNeyb",
        "colab_type": "text"
      },
      "source": [
        "#  FUNCTIONS"
      ]
    },
    {
      "cell_type": "markdown",
      "metadata": {
        "id": "RGgp__RZNvUy",
        "colab_type": "text"
      },
      "source": [
        "## BASIC FUNCTION OPS"
      ]
    },
    {
      "cell_type": "markdown",
      "metadata": {
        "id": "yEdzSlN8NwyE",
        "colab_type": "text"
      },
      "source": [
        "### P1.PY"
      ]
    },
    {
      "cell_type": "code",
      "metadata": {
        "id": "XixCtMjENeye",
        "colab_type": "code",
        "colab": {
          "base_uri": "https://localhost:8080/",
          "height": 34
        },
        "outputId": "3a9122ea-68e3-481c-9c4c-8b4021d18710"
      },
      "source": [
        "\"\"\"\n",
        "Function Basics I - No Input\n",
        "\"\"\"\n",
        "\n",
        "# Write a and call a function called \"rand_list\" that generates a list of 5 random numbers between 1 and 500. Print out that list.\n",
        "\n",
        "import random\n",
        "\n",
        "def rand_list(list):\n",
        "    n = random.randint(1,500)\n",
        "    x = random.randint(1,500)\n",
        "    f = random.randint(1,500)\n",
        "    y = random.randint(1,500)\n",
        "    z = random.randint(1,500)\n",
        "    return n,x,y,z,f\n",
        "\n",
        "random5 = rand_list(range(5))\n",
        "print(random5)\n",
        "\n"
      ],
      "execution_count": 30,
      "outputs": [
        {
          "output_type": "stream",
          "text": [
            "(492, 361, 43, 53, 255)\n"
          ],
          "name": "stdout"
        }
      ]
    },
    {
      "cell_type": "markdown",
      "metadata": {
        "id": "JHygF2-tNeyk",
        "colab_type": "text"
      },
      "source": [
        "### P2.PY\n"
      ]
    },
    {
      "cell_type": "code",
      "metadata": {
        "id": "a08oiPvoNeyl",
        "colab_type": "code",
        "colab": {
          "base_uri": "https://localhost:8080/",
          "height": 34
        },
        "outputId": "09b58ae6-6291-4857-f285-89c27351c04d"
      },
      "source": [
        "\"\"\"\n",
        "Function Basics II - Arguments\n",
        "\"\"\"\n",
        "\n",
        "# Write a and call function called \"names\" that \n",
        "# separately intakes a person's first name and a person's last name. It should concatenate the names and return the person's full name.\n",
        "\n",
        "def names(firstname,lastname):\n",
        "  parts = [firstname,lastname]\n",
        "  name = ''\n",
        "  for i in parts:\n",
        "        if i is not None and len(name) != 0:\n",
        "            name += f' {i}'\n",
        "        elif i is not None:\n",
        "            name += f'{i}'\n",
        "  return name\n",
        "\n",
        "name1 = names('charlie','knight')\n",
        "print(name1)"
      ],
      "execution_count": 7,
      "outputs": [
        {
          "output_type": "stream",
          "text": [
            "charlie knight\n"
          ],
          "name": "stdout"
        }
      ]
    },
    {
      "cell_type": "markdown",
      "metadata": {
        "id": "tFsdo4A6Neyn",
        "colab_type": "text"
      },
      "source": [
        "\n",
        "### P3.PY\n"
      ]
    },
    {
      "cell_type": "code",
      "metadata": {
        "id": "DBA7Joa8Neyp",
        "colab_type": "code",
        "colab": {
          "base_uri": "https://localhost:8080/",
          "height": 34
        },
        "outputId": "c1d76a0d-9a2c-48f4-84ee-3d21f931df77"
      },
      "source": [
        "\"\"\"\n",
        "Function Basics III - Default Arguments\n",
        "\"\"\"\n",
        "\n",
        "# Now write a and call function called \"fave_colors\" that separately intakes a person's first name, a person's last name, \n",
        "# and **optionally** their favorite color.\n",
        "\n",
        "# The function should create and return a dict with the full name as a key and the favorite color as the value. \n",
        "# If the person does not enter a favorite color, you should assume they have no favorite color and assign theirs to None. Try both use cases.\n",
        "\n",
        "def fave_colors(firstname,lastname,favecolor= None):\n",
        "  parts = [firstname, lastname, favecolor]\n",
        "  name = ''\n",
        "  for i in parts:\n",
        "        if i is not None and len(name) != 0:\n",
        "            name += f' {i}'\n",
        "        elif i is not None:\n",
        "            name += f'{i}'\n",
        "  return name\n",
        "\n",
        "name1 = fave_colors('charlie','knight', favecolor='blue')\n",
        "print(name1)\n"
      ],
      "execution_count": 4,
      "outputs": [
        {
          "output_type": "stream",
          "text": [
            "charlie knight blue\n"
          ],
          "name": "stdout"
        }
      ]
    },
    {
      "cell_type": "markdown",
      "metadata": {
        "id": "cWqpS8KLNeyz",
        "colab_type": "text"
      },
      "source": [
        "\n",
        "### P4.PY\n"
      ]
    },
    {
      "cell_type": "code",
      "metadata": {
        "id": "WmATxpzvNey0",
        "colab_type": "code",
        "colab": {
          "base_uri": "https://localhost:8080/",
          "height": 34
        },
        "outputId": "74dfad1a-3287-4590-8dc4-9978a5ad6d21"
      },
      "source": [
        "\"\"\"\n",
        "Function Basics IV - Multiple Return Values\n",
        "\"\"\"\n",
        "\n",
        "# Write a and call a function called \"figures\" that takes any two numbers and **individually** returns the following as integers:\n",
        "# their sum\n",
        "# their product\n",
        "# the quotient for num1 / num2\n",
        "\n",
        "\"\"\"Print each value out individually in this format:\n",
        "(using 12 and 3)\n",
        "sum: 15\n",
        "product: 36\n",
        "quotient: 4\n",
        "\"\"\"\n",
        "\n",
        "def figures(firstnumber, secondnumber):\n",
        "  s = firstnumber + secondnumber\n",
        "  p = firstnumber * secondnumber\n",
        "  q = firstnumber / secondnumber\n",
        "  return  f'sum = {s}', f'product = {p}',f'quotient = {q}'\n",
        "\n",
        "\n",
        "figures1 = figures(12,4)\n",
        "print(figures1)\n",
        "\n"
      ],
      "execution_count": 12,
      "outputs": [
        {
          "output_type": "stream",
          "text": [
            "('sum = 16', 'product = 48', 'quotient = 3.0')\n"
          ],
          "name": "stdout"
        }
      ]
    },
    {
      "cell_type": "markdown",
      "metadata": {
        "id": "pqxwEC16Ney2",
        "colab_type": "text"
      },
      "source": [
        "\n",
        "### P5.PY\n"
      ]
    },
    {
      "cell_type": "code",
      "metadata": {
        "id": "i_tVcZ1FNey3",
        "colab_type": "code",
        "colab": {
          "base_uri": "https://localhost:8080/",
          "height": 34
        },
        "outputId": "0f77e525-8c7b-4473-a99a-4a91d89c904e"
      },
      "source": [
        "\"\"\"\n",
        "Function Basics V - Indeterminate Arguments\n",
        "\"\"\"\n",
        "\n",
        "# Write a and call a function called \"high_low\" that takes 3 numbers and returns the highest and lowest ones.\n",
        "\n",
        "def high_low(*args):\n",
        "  high = max(*args)\n",
        "  low = min(*args)\n",
        "  return f'Highest is {high}',f'Lowest is {low}'\n",
        "\n",
        "hl = high_low(5,7,8,56,4)\n",
        "print(hl)"
      ],
      "execution_count": 16,
      "outputs": [
        {
          "output_type": "stream",
          "text": [
            "('Highest is 56', 'Lowest is 4')\n"
          ],
          "name": "stdout"
        }
      ]
    },
    {
      "cell_type": "markdown",
      "metadata": {
        "id": "1p9TsLXtNey5",
        "colab_type": "text"
      },
      "source": [
        "\n",
        "## DB_SEARCH\n"
      ]
    },
    {
      "cell_type": "markdown",
      "metadata": {
        "id": "W5DLuftkNyog",
        "colab_type": "text"
      },
      "source": [
        "### P1.PY"
      ]
    },
    {
      "cell_type": "code",
      "metadata": {
        "id": "WvU9x79ZNey6",
        "colab_type": "code",
        "colab": {
          "base_uri": "https://localhost:8080/",
          "height": 51
        },
        "outputId": "e2bf4015-86e9-4bdf-c621-6bf3641a49eb"
      },
      "source": [
        "\"\"\"\n",
        "GPA Calculator\n",
        "\"\"\"\n",
        "\n",
        "# Write a function called \"simple_gpa\" to find GPA when student enters a letter grade as a string. \n",
        "# Assign the result to a variable called \"gpa\".\n",
        "\n",
        "\"\"\"\n",
        "Use these conversions:\n",
        "gpa\n",
        "A+ : 4.0\n",
        "A : 4.0\n",
        "A- --> 3.7\n",
        "B+ --> 3.3\n",
        "B --> 3.0\n",
        "B- --> 2.7\n",
        "C+ --> 2.3\n",
        "C --> 2.0\n",
        "C- --> 1.7\n",
        "D+ --> 1.3\n",
        "D --> 1.0\n",
        "D- --> 0.7\n",
        "F --> 0.0\n",
        "\"\"\"\n",
        "\n",
        "gpa_list = {\n",
        "'A+' : 4.0,\n",
        "'A' : 4.0,\n",
        "'A-' : 3.7,\n",
        "'B+' : 3.3,\n",
        "'B' : 3.0,\n",
        "'B-' : 2.7,\n",
        "'C+' : 2.3,\n",
        "'C' : 2.0,\n",
        "'C-' : 1.7,\n",
        "'D+' : 1.3,\n",
        "'D' : 1.0,\n",
        "'F' : 0.0\n",
        "}\n",
        "def simple_gpa(x):\n",
        "  g = gpa_list[x]\n",
        "  return g\n",
        "\n",
        "gpa = simple_gpa(input())\n",
        "print(gpa)\n"
      ],
      "execution_count": 28,
      "outputs": [
        {
          "output_type": "stream",
          "text": [
            "C\n",
            "2.0\n"
          ],
          "name": "stdout"
        }
      ]
    },
    {
      "cell_type": "markdown",
      "metadata": {
        "id": "XJfdr65oNey8",
        "colab_type": "text"
      },
      "source": [
        "\n",
        "### P2.PY\n",
        "\n"
      ]
    },
    {
      "cell_type": "code",
      "metadata": {
        "id": "STG3hDMhNey9",
        "colab_type": "code",
        "colab": {
          "base_uri": "https://localhost:8080/",
          "height": 34
        },
        "outputId": "84ecd92e-1bb3-4d7e-be6d-31dd08377915"
      },
      "source": [
        "\"\"\"\n",
        "RGB to HEX\n",
        "\"\"\"\n",
        "\n",
        "# Write a and call a function called \"rgb_hex\" that takes a parameter called \"color.\" \n",
        "# The function should be able to intake a color in rgb format and return it in hex format as well as vice versa. \n",
        "# A sample of color conversions are below. Write in logic so the function can interpret rgb and hex colors entered in different \n",
        "# formats such as \"rgb_hex((255,255,255))\" or \"rgb_hex('ffffff')\". Also make sure to account for someone inputting a color not in the database.\n",
        "\n",
        "color_conversions = {\n",
        "'#4286f4': 'rgb(66, 134, 244)',\n",
        "'#5905c6': 'rgb(89, 5, 198)',\n",
        "'#fce702': 'rgb(252, 231, 2)',\n",
        "'#ffffff': 'rgb(255, 255, 255)',\n",
        "'#000000': 'rgb(0, 0, 0)',\n",
        "'#0ac913': 'rgb(10, 201, 19)',\n",
        "'#65c672': 'rgb(101, 198, 114)',\n",
        "'#f8d6ff': 'rgb(248, 214, 255)',\n",
        "'#b70782': 'rgb(183, 7, 130)',\n",
        "'#001184': 'rgb(0, 17, 132)',\n",
        "'#495eed': 'rgb(73, 94, 237)',\n",
        "'#b7ffb8': 'rgb(183, 255, 184)',\n",
        "'#ffbf00': 'rgb(255, 191, 0)',\n",
        "'#7a020e': 'rgb(122, 2, 14)',\n",
        "'#ff5e6e': 'rgb(255, 94, 110)',\n",
        "'#22003d': 'rgb(34, 0, 61)'\n",
        "}\n",
        "\n",
        "def rgb_hex(b):\n",
        "  a = color_conversions[b]\n",
        "  return a\n",
        "\n",
        "output1 = rgb_hex('#ffffff')\n",
        "print(output1)"
      ],
      "execution_count": 10,
      "outputs": [
        {
          "output_type": "stream",
          "text": [
            "rgb(255, 255, 255)\n"
          ],
          "name": "stdout"
        }
      ]
    },
    {
      "cell_type": "markdown",
      "metadata": {
        "id": "AQVD0N7BNezC",
        "colab_type": "text"
      },
      "source": [
        "\n",
        "\n",
        "## MATH\n",
        "\n",
        "\n"
      ]
    },
    {
      "cell_type": "markdown",
      "metadata": {
        "id": "bmEK7PmRN1Fu",
        "colab_type": "text"
      },
      "source": [
        "### P1.PY"
      ]
    },
    {
      "cell_type": "code",
      "metadata": {
        "id": "oMKX0HrfNezD",
        "colab_type": "code",
        "colab": {
          "base_uri": "https://localhost:8080/",
          "height": 34
        },
        "outputId": "ceeec24d-e2b1-41c7-eae5-25981dbe446b"
      },
      "source": [
        "\"\"\"\n",
        "Simple Interest Calculator\n",
        "\"\"\"\n",
        "\n",
        "# # Write a function called \"simple_interest\" that will allow a user to find out how much they \n",
        "# will have in savings based on their current funds and an interest rate. \n",
        "# (Instead of collecting user input, you can directly pass values of your choosing for the arguments.)\n",
        "\n",
        "# The formula for simple interest is...\n",
        "# A = P(1 + rt), where...\n",
        "# P = principal amount of money\n",
        "# r = interest rate\n",
        "# t = number of time periods the principal will earn interest\n",
        "\n",
        "def simple_interest(P,r,t):\n",
        "  A = P*(1 + r*t)\n",
        "  return A\n",
        "\n",
        "myinterest = simple_interest(50,0.5,10)\n",
        "print(myinterest)\n",
        "\n"
      ],
      "execution_count": 30,
      "outputs": [
        {
          "output_type": "stream",
          "text": [
            "300.0\n"
          ],
          "name": "stdout"
        }
      ]
    },
    {
      "cell_type": "markdown",
      "metadata": {
        "id": "7ScSNwjINezF",
        "colab_type": "text"
      },
      "source": [
        "\n",
        "\n",
        "### P2.PY\n",
        "\n",
        "\n"
      ]
    },
    {
      "cell_type": "code",
      "metadata": {
        "id": "YwFx8wHsNezG",
        "colab_type": "code",
        "colab": {
          "base_uri": "https://localhost:8080/",
          "height": 34
        },
        "outputId": "e7dd62dd-4fb1-45c3-d008-3fb50938ffcc"
      },
      "source": [
        "\"\"\"\n",
        "Permutations & Combinations\n",
        "\"\"\"\n",
        "\n",
        "# Create two functions:\n",
        "\t# # One called \"perms\", which outputs the **number** of possible **permutations** of \n",
        "\t# rolling two 6-sided dice and assign it to a variable called \"permutations\".\n",
        "\t# # One called \"combs\", which outputs the **number** of possible **combinations** \n",
        "\t# of rolling two 6-sided dice and assigns it to a variable called \"combinations\".\n",
        "\t# # Hint: The formulas for these are below, where n is the number of possible outcomes for \n",
        "\t# one trial and r is the number of outcomes you will pick at a time. \n",
        "\t# The contextual difference is that order matters for permutations, meaning the same two numbers in a different order count as two unique permutations. \n",
        "\t# For combinations, the order doesn't matter.\n",
        "\n",
        "from itertools import permutations\n",
        "from itertools import combinations\n",
        "from math import factorial\n",
        "\n",
        "# permutation formula = n! / (n-r)!\n",
        "# combination formula = n! / (nâr)!r!\n",
        " \n",
        "def perms(n,r):\n",
        "\tx = n-r\n",
        "\tp = factorial(n) / factorial(x)\n",
        "\tc = factorial(n) / factorial(x)*factorial(r)\n",
        "\treturn f'permutations = {p}', f'combinations = {c}'\n",
        "\n",
        "f = perms(6,2)\n",
        "print(f)\n",
        "\n",
        "\n",
        "\n"
      ],
      "execution_count": 46,
      "outputs": [
        {
          "output_type": "stream",
          "text": [
            "('permutations = 30.0', 'combinations = 60.0')\n"
          ],
          "name": "stdout"
        }
      ]
    },
    {
      "cell_type": "markdown",
      "metadata": {
        "id": "7bTNjBy_NezI",
        "colab_type": "text"
      },
      "source": [
        "\n",
        "\n",
        "### P3.PY\n",
        "\n",
        "\n"
      ]
    },
    {
      "cell_type": "code",
      "metadata": {
        "id": "NC2JU5p1NezI",
        "colab_type": "code",
        "colab": {
          "base_uri": "https://localhost:8080/",
          "height": 51
        },
        "outputId": "77e568c9-db5d-4156-ebf3-676afbe0d4c4"
      },
      "source": [
        "\"\"\"\n",
        "Multiples\n",
        "\"\"\"\n",
        "\n",
        "# Write a function called \"sum_multiples\" \n",
        "# that take two numbers and returns the sum of their multiples between 0 and some limit. These three items should be generalized as parameters.\n",
        "\n",
        "numbers = list(range(1,1000))\n",
        "\n",
        "def sum_multiples(x,y):\n",
        "  multiples = []\n",
        "  for z in numbers:\n",
        "    if x % z is 0:\n",
        "      multiples.append(z)\n",
        "    if y % z is 0:\n",
        "      multiples.append(z)\n",
        "    p = sum(multiples)\n",
        "  print(multiples)\n",
        "  return p \n",
        "\n",
        "gf = sum_multiples(100,10)\n",
        "print(gf)\n",
        "\n"
      ],
      "execution_count": 62,
      "outputs": [
        {
          "output_type": "stream",
          "text": [
            "[1, 1, 2, 2, 4, 5, 5, 10, 10, 20, 25, 50, 100]\n",
            "235\n"
          ],
          "name": "stdout"
        }
      ]
    },
    {
      "cell_type": "markdown",
      "metadata": {
        "id": "ARbsmw_mNezL",
        "colab_type": "text"
      },
      "source": [
        "## DATA_MANIPULATION\n",
        "\n",
        "\n"
      ]
    },
    {
      "cell_type": "markdown",
      "metadata": {
        "id": "wTd0ZSSeN4Y8",
        "colab_type": "text"
      },
      "source": [
        "### P1.PY"
      ]
    },
    {
      "cell_type": "code",
      "metadata": {
        "id": "iUq-vFf2NezM",
        "colab_type": "code",
        "colab": {}
      },
      "source": [
        "\"\"\"\n",
        "File Organization\n",
        "\"\"\"\n",
        "\n",
        "# # The dict \"files\" below contains file names and the name of the person who owns each file. \n",
        "# Write and call a function to reorganize \"files\" such that \n",
        "# it contains each person's name and the files he/she owns. Assign the resultant dict to a new dict called \"grouped_by_owner\". \n",
        "# Print out the key value pairs in this format - key: value.\n",
        "\n",
        "# Function name should be: group_by_owners\n",
        "# Dict of results should be named: files_by_owner\n",
        "\n",
        "files = {\n",
        "  'Input1.txt': 'Beau',\n",
        "  'Code1.py': 'Mischa',\n",
        "  'Output1.txt': 'Beau',\n",
        "  'Input2.txt': 'Beau',\n",
        "  'Code2.py': 'Mischa',\n",
        "  'Output2.txt': 'Beau',\n",
        "  'Input3.txt': 'Percy',\n",
        "  'Code3.py': 'Alejandra',\n",
        "  'Output3.txt': 'Percy'\n",
        "}\n",
        "\n",
        "\n",
        "\n",
        "def group_by_owners(x):\n",
        "  files_by_owner = dict([(value, key) for key, value in files.items()])\n",
        "  return files_by_owner\n",
        "\n",
        "n = group_by_owners(files)\n",
        "print(n)\n"
      ],
      "execution_count": 0,
      "outputs": []
    },
    {
      "cell_type": "markdown",
      "metadata": {
        "id": "-7KFDG5lNezO",
        "colab_type": "text"
      },
      "source": [
        "\n",
        "\n",
        "### P2.PY\n",
        "\n",
        "\n"
      ]
    },
    {
      "cell_type": "code",
      "metadata": {
        "id": "S5e9s-njNezP",
        "colab_type": "code",
        "colab": {
          "base_uri": "https://localhost:8080/",
          "height": 51
        },
        "outputId": "d780ca58-c3c6-4858-8adf-2dc13b9d1c0b"
      },
      "source": [
        "\"\"\"\n",
        "Clean Pairs\n",
        "\"\"\"\n",
        "\n",
        "# # Below is a list of common food pairings. \n",
        "# Write a function called \"cleaner\" that cleans the data such that each list item is a tuple (e.g. ('Milk', 'Cookies')). \n",
        "# Assign the results to a variable called \"clean_pairs\".\n",
        "\n",
        "pairs = [('Milk', 'Cookies'), ('Peanut Butter - Jelly'), ('Spaghetti & Meatballs'), ('Eggs', 'Bacon'), ('Pancakes & Syrup'), ('Chicken - Waffles'), ('Peas', 'Carrots')]\n",
        "\n",
        "def cleaner(*args):\n",
        "  for y in pairs:\n",
        "    y = tuple(*args)\n",
        "    return y\n",
        "\n",
        "z = cleaner(pairs)\n",
        "print(type(z))\n",
        "print(z)\n"
      ],
      "execution_count": 76,
      "outputs": [
        {
          "output_type": "stream",
          "text": [
            "<class 'tuple'>\n",
            "(('Milk', 'Cookies'), 'Peanut Butter - Jelly', 'Spaghetti & Meatballs', ('Eggs', 'Bacon'), 'Pancakes & Syrup', 'Chicken - Waffles', ('Peas', 'Carrots'))\n"
          ],
          "name": "stdout"
        }
      ]
    },
    {
      "cell_type": "markdown",
      "metadata": {
        "id": "E39dQ-pONezT",
        "colab_type": "text"
      },
      "source": [
        "\n",
        "\n",
        "### P3.PY\n",
        "\n",
        "\n"
      ]
    },
    {
      "cell_type": "code",
      "metadata": {
        "id": "b6qFJuFfNezT",
        "colab_type": "code",
        "colab": {
          "base_uri": "https://localhost:8080/",
          "height": 51
        },
        "outputId": "b85ce23e-45a3-464f-865e-3d376885f7a6"
      },
      "source": [
        "\"\"\"\n",
        "Password Requirements\n",
        "\"\"\"\n",
        "\n",
        "# Write a Python program called \"pw_validator\" to validate a password based on the security requirements outlined below.\n",
        "\n",
        "# VALIDATION REQUIREMENTS:\n",
        "## At least 1 lowercase letter [a-z]\n",
        "## At least 1 uppercase letter [A-Z].\n",
        "## At least 1 number [0-9].\n",
        "## At least 1 special character [~!@#$%&*].\n",
        "## Min length 6 characters.\n",
        "## Max length 16 characters.\n",
        "\n",
        "\n",
        "import re\n",
        "\n",
        "\n",
        "def pw_validator(p):\n",
        "  specialchar = ['~','!','@','#','$','%','&','*']\n",
        "  v = True\n",
        "  if len(p) < 6 and len(p) > 16:\n",
        "   print('length has to be between 6 and 16')\n",
        "   f = False\n",
        "  if re.search('[0-9]',p) is None:\n",
        "   print('has to have at least 1 number')\n",
        "   v = False\n",
        "  if re.search('[A-Z]',p) is None:\n",
        "   print('has to have at least 1 upper case')\n",
        "   v = False\n",
        "  if re.search('[a-z]',p) is None:\n",
        "   print('has to have at least 1 lower case')\n",
        "   v = False\n",
        "  if not any(char in specialchar for char in p):\n",
        "   print ('has to have at least a $#@')\n",
        "   v = False\n",
        "  else:\n",
        "   return v\n",
        "  \n",
        "h = pw_validator('AA@3134')\n",
        "print(h)\n",
        "\n"
      ],
      "execution_count": 124,
      "outputs": [
        {
          "output_type": "stream",
          "text": [
            "has to have at least 1 lower case\n",
            "False\n"
          ],
          "name": "stdout"
        }
      ]
    },
    {
      "cell_type": "markdown",
      "metadata": {
        "id": "X8kPjts_NezV",
        "colab_type": "text"
      },
      "source": [
        "\n",
        "\n",
        "### P4.PY\n",
        "\n",
        "\n"
      ]
    },
    {
      "cell_type": "code",
      "metadata": {
        "id": "AucIC9Z8NezW",
        "colab_type": "code",
        "colab": {
          "base_uri": "https://localhost:8080/",
          "height": 34
        },
        "outputId": "f0f4c493-53f3-4e0a-a41e-10262b866a1d"
      },
      "source": [
        "\"\"\"\n",
        "Rainbows & Wobniars\n",
        "\"\"\"\n",
        "\n",
        "# Write a function called \"wobniar\", which should contain the local variable \"rainbow\" below. \n",
        "# The function should collect every other color of the rainbow starting at index 0 and add each one to a new list. \n",
        "# When you add each color, it should be spelled backwards. For example, the word 'sing' would be added to the new list as 'gnis'. \n",
        "# Return and print the list.\n",
        "\n",
        "\n",
        "def wobniar(rainbow):\n",
        "  l = []\n",
        "  rainbow = ['red','blue','yellow','green','orange','indigo']\n",
        "  pos = rainbow[::2]\n",
        "  for x in pos:\n",
        "    l.append(reversed(x))\n",
        "  return l\n",
        "    \n",
        "\n",
        "h = wobniar(rainbow)\n",
        "print(h)\n"
      ],
      "execution_count": 205,
      "outputs": [
        {
          "output_type": "stream",
          "text": [
            "[<reversed object at 0x7f753f746240>, <reversed object at 0x7f753f746278>, <reversed object at 0x7f753f7462b0>]\n"
          ],
          "name": "stdout"
        }
      ]
    },
    {
      "cell_type": "markdown",
      "metadata": {
        "id": "4gyJyWF1Nezc",
        "colab_type": "text"
      },
      "source": [
        "\n",
        "\n",
        "### P5.PY\n",
        "\n",
        "\n"
      ]
    },
    {
      "cell_type": "code",
      "metadata": {
        "id": "aW8b7Bk_Neze",
        "colab_type": "code",
        "colab": {
          "base_uri": "https://localhost:8080/",
          "height": 54
        },
        "outputId": "86bae79d-c1d5-4393-ec28-a7896bb6b347"
      },
      "source": [
        "\"\"\"\n",
        "Speeding Tickets\n",
        "\"\"\"\n",
        "# # Imagine you're a cop waiting on the side of the road to pick up speeders. \n",
        "# Write a function called \"speeders\" to check the speed of drivers and record their license plate numbers.\n",
        "# ## If speed is less than or equal 70 (mph), it should print \"Good\". \n",
        "# ## If the speed is greater than 70, find the license plate number of that driver in your \"driver_points\" dict (see below) \n",
        "# and add a point to their license for every 5 full mph above the speed limit.\n",
        "# ## If at any point that driver has 12 or more points on his/her license, print \"License Suspended\".\n",
        "# ## Call the function on each driver in the \"passing_cars\" dict below to see difference use cases work.\n",
        "# p.s. Feel free to move these around in your code as needed.\n",
        "passing_cars = { # license plate nums & speed\n",
        "  '4GRONPH': 68,\n",
        "  'OJGL6WD': 82,\n",
        "  'Q5517FA': 70,\n",
        "  'S0PNWEJ': 95,\n",
        "  'RM23RXC': 64,\n",
        "  'KH5TH8D': 100,\n",
        "  'IHEHJ4P': 67,\n",
        "  'SVK90LT': 73,\n",
        "  'LJSV4N1': 88,\n",
        "  'KDRLGXM': 91\n",
        "}\n",
        "\n",
        "driver_points = { # license plate nums & points\n",
        "  '4GRONPH': 8,\n",
        "  'OJGL6WD': 12,\n",
        "  'Q5517FA': 1,\n",
        "  'S0PNWEJ': 2,\n",
        "  'RM23RXC': 6,\n",
        "  'KH5TH8D': 7,\n",
        "  'IHEHJ4P': 10,\n",
        "  'SVK90LT': 5,\n",
        "  'LJSV4N1': 3,\n",
        "  'KDRLGXM': 9\n",
        "  }\n",
        "\n",
        "speedlist = []\n",
        "\n",
        "def speeders(y):\n",
        "  y = driver_points[y]\n",
        "  for k, v in passing_cars.items():\n",
        "    if v > 70:\n",
        "      speedlist.append(k)\n",
        "  for x in speedlist:\n",
        "    driver_points[x] += 1\n",
        "  return f'Your points = {y}', f'Speeders are: {speedlist}', f'New driver points {driver_points}'\n",
        "\n",
        "f = speeders('LJSV4N1')\n",
        "print(f)\n"
      ],
      "execution_count": 241,
      "outputs": [
        {
          "output_type": "stream",
          "text": [
            "('Your points = 9', \"Speeders are: ['OJGL6WD', 'S0PNWEJ', 'KH5TH8D', 'SVK90LT', 'LJSV4N1', 'KDRLGXM']\", \"New driver points {'4GRONPH': 8, 'OJGL6WD': 13, 'Q5517FA': 1, 'S0PNWEJ': 3, 'RM23RXC': 6, 'KH5TH8D': 8, 'IHEHJ4P': 10, 'SVK90LT': 6, 'LJSV4N1': 4, 'KDRLGXM': 10}\")\n"
          ],
          "name": "stdout"
        }
      ]
    }
  ]
}