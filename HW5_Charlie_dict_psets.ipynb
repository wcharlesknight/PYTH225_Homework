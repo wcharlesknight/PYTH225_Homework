{
  "nbformat": 4,
  "nbformat_minor": 0,
  "metadata": {
    "colab": {
      "name": "HW5_Charlie_dict_psets.ipynb",
      "provenance": [],
      "collapsed_sections": [],
      "include_colab_link": true
    },
    "kernelspec": {
      "name": "python3",
      "display_name": "Python 3"
    }
  },
  "cells": [
    {
      "cell_type": "markdown",
      "metadata": {
        "id": "view-in-github",
        "colab_type": "text"
      },
      "source": [
        "<a href=\"https://colab.research.google.com/github/wcharlesknight/PYTH225_Homework/blob/master/HW5_Charlie_dict_psets.ipynb\" target=\"_parent\"><img src=\"https://colab.research.google.com/assets/colab-badge.svg\" alt=\"Open In Colab\"/></a>"
      ]
    },
    {
      "cell_type": "markdown",
      "metadata": {
        "id": "hIHgBfgSSN8D",
        "colab_type": "text"
      },
      "source": [
        "#  DICTS\n",
        "\n",
        "\n",
        "\n"
      ]
    },
    {
      "cell_type": "markdown",
      "metadata": {
        "id": "_yv4DI9GSU01",
        "colab_type": "text"
      },
      "source": [
        "## BASICS\n"
      ]
    },
    {
      "cell_type": "markdown",
      "metadata": {
        "id": "YXndgQTcSWCF",
        "colab_type": "text"
      },
      "source": [
        "### P1.PY"
      ]
    },
    {
      "cell_type": "code",
      "metadata": {
        "id": "sycqY3FhSN8E",
        "colab_type": "code",
        "outputId": "2e01088d-80d9-4cb3-d84e-a62d1d126546",
        "colab": {
          "base_uri": "https://localhost:8080/",
          "height": 153
        }
      },
      "source": [
        "\"\"\"\n",
        "Intro to Dict Concepts\n",
        "\"\"\"\n",
        "\n",
        "# A) Declare an empty dict as d1.\n",
        "\n",
        "d1 = {}\n",
        "\n",
        "\n",
        "# B) Create a dict called d2 containing the first and last names below:\n",
        "# Anthony Paollelo, Ping Qiao, Enrique Alvarez, Arjun Dhir \n",
        "\n",
        "d2 = {\n",
        "    'anthony' : 'paollelo',\n",
        "    'ping':'qiao',\n",
        "    'enrique' : 'alvarez',\n",
        "    'arjun'   : 'dhir'\n",
        "}\n",
        "\n",
        "# C) Add Allison Zhang person to d2.\n",
        "\n",
        "d2['allison'] = 'zhang'\n",
        "\n",
        "# D) How many people are now in d2? Print out all their *first* names in the vars below.\n",
        "\n",
        "num_people = len(d2)\n",
        "print(num_people)\n",
        "\n",
        "for first_names in d2:\n",
        "  print(first_names)\n",
        "\n",
        "# E) Delete a random person from d2 and print his/her name in the var below.\n",
        "\n",
        "del d2['allison']\n",
        "\n",
        "print(d2)\n",
        "x = {'allison': 'zhang'}\n",
        "\n",
        "\n",
        "# F) Re-add the name you deleted to the end of d2.\n",
        "\n",
        "d2.update(x)\n",
        "print(d2)\n",
        "\n",
        "\n"
      ],
      "execution_count": 0,
      "outputs": [
        {
          "output_type": "stream",
          "text": [
            "5\n",
            "anthony\n",
            "ping\n",
            "enrique\n",
            "arjun\n",
            "allison\n",
            "{'anthony': 'paollelo', 'ping': 'qiao', 'enrique': 'alvarez', 'arjun': 'dhir'}\n",
            "{'anthony': 'paollelo', 'ping': 'qiao', 'enrique': 'alvarez', 'arjun': 'dhir', 'allison': 'zhang'}\n"
          ],
          "name": "stdout"
        }
      ]
    },
    {
      "cell_type": "markdown",
      "metadata": {
        "id": "vGjiwyuNSN8H",
        "colab_type": "text"
      },
      "source": [
        "\n",
        "\n",
        "### P2.PY\n",
        "\n",
        "\n"
      ]
    },
    {
      "cell_type": "code",
      "metadata": {
        "id": "0vq219wISN8J",
        "colab_type": "code",
        "outputId": "fe1be253-a7f0-4017-c9d0-be3b05186af0",
        "colab": {
          "base_uri": "https://localhost:8080/",
          "height": 68
        }
      },
      "source": [
        "\"\"\"\n",
        "Predators & Prey\n",
        "\"\"\"\n",
        "\n",
        "# A) Create a dict called \"pred_prey\", containing:\n",
        "### 3 carnivorous marine animals\n",
        "### For each carnivore, 3 examples of its prey\n",
        "\n",
        "pred_prey = {\n",
        "    'whale':{'krill','plankton','squid'},\n",
        "    'shark':{'rainbow fish', 'octopus','tuna'},\n",
        "    'dolphin':{'mackeral','sea lion','turtle'}\n",
        "}\n",
        "\n",
        "print(pred_prey)\n",
        "\n",
        "# B) Print out the 2nd predator and its prey in this format:\n",
        "\n",
        "print(pred_prey['shark'])\n",
        "\n",
        "\n",
        "prey = pred_prey.values()\n",
        "print(prey)"
      ],
      "execution_count": 0,
      "outputs": [
        {
          "output_type": "stream",
          "text": [
            "{'whale': {'krill', 'squid', 'plankton'}, 'shark': {'octopus', 'rainbow fish', 'tuna'}, 'dolphin': {'sea lion', 'mackeral', 'turtle'}}\n",
            "{'octopus', 'rainbow fish', 'tuna'}\n",
            "dict_values([{'krill', 'squid', 'plankton'}, {'octopus', 'rainbow fish', 'tuna'}, {'sea lion', 'mackeral', 'turtle'}])\n"
          ],
          "name": "stdout"
        }
      ]
    },
    {
      "cell_type": "markdown",
      "metadata": {
        "id": "2n4lE5O2SN8N",
        "colab_type": "text"
      },
      "source": [
        "\n",
        "\n",
        "### P3.PY\n",
        "\n",
        "\n"
      ]
    },
    {
      "cell_type": "code",
      "metadata": {
        "id": "7mg1LKIdSN8O",
        "colab_type": "code",
        "outputId": "3b560700-9668-45e6-a06d-4099ab096e55",
        "colab": {
          "base_uri": "https://localhost:8080/",
          "height": 34
        }
      },
      "source": [
        "\"\"\"\n",
        "Merging Dicts\n",
        "\"\"\"\n",
        "\n",
        "# Merge these two dicts without creating a new one.\n",
        "\n",
        "d1 = {'a': 100, 'b': 200}\n",
        "d2 = {'c': 300, 'd': 400, 'e': 500}\n",
        "\n",
        "d1.update(d2)\n",
        "print(d1)\n"
      ],
      "execution_count": 0,
      "outputs": [
        {
          "output_type": "stream",
          "text": [
            "{'a': 100, 'b': 200, 'c': 300, 'd': 400, 'e': 500}\n"
          ],
          "name": "stdout"
        }
      ]
    },
    {
      "cell_type": "markdown",
      "metadata": {
        "id": "pPpGZbyBSN8Q",
        "colab_type": "text"
      },
      "source": [
        "\n",
        "\n",
        "### P4.PY\n",
        "\n",
        "\n"
      ]
    },
    {
      "cell_type": "code",
      "metadata": {
        "id": "HLyWTctsSN8R",
        "colab_type": "code",
        "outputId": "39c4af6d-6b9e-45f5-e02d-b7bff80755d2",
        "colab": {
          "base_uri": "https://localhost:8080/",
          "height": 85
        }
      },
      "source": [
        "\"\"\"\n",
        "Lists to Dicts\n",
        "\"\"\"\n",
        "\n",
        "# Turn these two lists into a dict called grades.\n",
        "\n",
        "names = ['Taq', 'Zola', 'Valerie', 'Valerie']\n",
        "scores = [[98, 89, 92, 94], [86, 45, 98, 100], [100, 100, 100, 100], [76, 79, 80, 82]]\n",
        "\n",
        "grades = zip(names,scores)\n",
        "\n",
        "for x in grades:\n",
        "  print(x)\n",
        "\n",
        "\n"
      ],
      "execution_count": 0,
      "outputs": [
        {
          "output_type": "stream",
          "text": [
            "('Taq', [98, 89, 92, 94])\n",
            "('Zola', [86, 45, 98, 100])\n",
            "('Valerie', [100, 100, 100, 100])\n",
            "('Valerie', [76, 79, 80, 82])\n"
          ],
          "name": "stdout"
        }
      ]
    },
    {
      "cell_type": "markdown",
      "metadata": {
        "id": "j2WZlr4aSN8T",
        "colab_type": "text"
      },
      "source": [
        "## DICT MANIPULATION\n",
        "\n"
      ]
    },
    {
      "cell_type": "markdown",
      "metadata": {
        "id": "CD6sOl1NSlUd",
        "colab_type": "text"
      },
      "source": [
        "### P1.PY"
      ]
    },
    {
      "cell_type": "code",
      "metadata": {
        "id": "kevedbhjSN8U",
        "colab_type": "code",
        "outputId": "107ab359-fb23-4638-d19d-027d7e822a76",
        "colab": {
          "base_uri": "https://localhost:8080/",
          "height": 34
        }
      },
      "source": [
        "\"\"\"\n",
        "Basic Login\n",
        "\"\"\"\n",
        "\n",
        "# Imagine you work for a movie streaming service. You're in charge of safeguarding user privacy by ensuring the login feature remains secure. \n",
        "# For the sake of example only, below is the dict of user login info. Normally, you wouldn't have access to see this unencrypted of course!\n",
        "\n",
        "users = {\n",
        "\t'person@email.com': 'PassWord',\n",
        "\t'someone@email.com': 'hiitsme',\n",
        "\t'me@email.com': 'myPassword',\n",
        "\t'anyone@email.com': 'IMawesome',\n",
        "\t'guy@email.com': 'pa$$wordz'\n",
        "\t# etc\n",
        "}\n",
        "\n",
        "\n",
        "\n",
        "\n",
        "# A user enters the below login info (email and password) for your app. \n",
        "# Search your database of user logins to see if this account exists and if the password matches what you have on file. \n",
        "# If the login credentials are correct, print \"Successful login!\". Otherwise, print \"The login info you entered does not match any of our records.\"\n",
        "\n",
        "current_user = { 'me@email.com': 'myPassword' }\n",
        "\n",
        "for name, password in current_user.items():\n",
        "\tif name not in users:\n",
        "\t\tprint('Login info entered does not match our records')\n",
        "\tif name in users:\n",
        "\t\tif password != users[name]:\n",
        "\t\t\tprint('Login info entered does not match our records')\n",
        "\t\telse:\n",
        "\t\t\tprint('Successful login!')\n"
      ],
      "execution_count": 0,
      "outputs": [
        {
          "output_type": "stream",
          "text": [
            "Successful login!\n"
          ],
          "name": "stdout"
        }
      ]
    },
    {
      "cell_type": "markdown",
      "metadata": {
        "id": "KbjvMBP_SN8W",
        "colab_type": "text"
      },
      "source": [
        "\n",
        "\n",
        "### P2.PY\n",
        "\n",
        "\n"
      ]
    },
    {
      "cell_type": "code",
      "metadata": {
        "id": "SjdXQ_MiSN8X",
        "colab_type": "code",
        "outputId": "e9560736-0001-4132-8bfb-5092ba87fbd1",
        "colab": {
          "base_uri": "https://localhost:8080/",
          "height": 187
        }
      },
      "source": [
        "\"\"\"\n",
        "Math with Girl Scout Cookies\n",
        "\"\"\"\n",
        "\n",
        "# Print out the number of boxes of girl scout cookies that each girl in the troop sold in the below format:\n",
        "\t# Wendy: _____\n",
        "\t# Connie: _____\n",
        "\t# Francesca: _____\n",
        "\n",
        "Wendy = {'tagalongs': 5, 'thin mints': 12, 'samoas': 8}\n",
        "Connie = {'tagalongs': 10, 'thin mints': 4, 'samoas': 12}\n",
        "Francesca = {'tagalongs': 18, 'thin mints': 14, 'samoas': 10}\n",
        "\n",
        "salesW = sum(Wendy.values())\n",
        "salesC = sum(Connie.values())\n",
        "salesF = sum(Francesca.values())\n",
        "print('Wendy:',salesW)\n",
        "print('Connie:',salesC)\n",
        "print('Francesca:',salesF)\n",
        "\n",
        "# For each type of girl scout cookie, print out the total number of boxes sold in the below format:\n",
        "\n",
        "tagalongs = []\n",
        "thin_mints = []\n",
        "samoas = []\n",
        "\n",
        "for x in Wendy['tagalongs'],Connie['tagalongs'],Francesca['tagalongs']:\n",
        "\ttagalongs.append(x)\n",
        "total_tagalongs = sum(tagalongs)\n",
        "print('tagalongs:', total_tagalongs)\n",
        "\n",
        "for x in Wendy['thin mints'],Connie['thin mints'],Francesca['thin mints']:\n",
        "\tthin_mints.append(x)\n",
        "total_thinmints = sum(thin_mints)\n",
        "print('thin mints:',total_thinmints)\n",
        "\n",
        "for x in Wendy['samoas'],Connie['samoas'],Francesca['samoas']:\n",
        "\tsamoas.append(x)\n",
        "total_samoas = sum(samoas)\n",
        "print('samoas:',total_samoas)\n",
        "\n",
        "\n",
        "\n",
        "# For each type of girl scout cookie, print out the average number of boxes sold in the below format:\n",
        "\t# tagalongs: _____\n",
        "\t# thin mints: _____\n",
        "\t# samoas: _____\n",
        "\n",
        "\n",
        "\n",
        "avg_tagalongs = total_tagalongs/3\n",
        "print('avg tagalongs:',avg_tagalongs)\n",
        "avg_thinmints = total_thinmints/3\n",
        "avg_samoas = total_samoas/3\n",
        "print('avg thin mints:',avg_thinmints)\n",
        "print('avg samoas:', avg_samoas)\n",
        "\n",
        "### avg_thinmints = \n",
        "### avg_samoas = \n",
        "\n",
        "# Print out total the number of boxes of cookies the girls sold collectively as follows:\n",
        "\t# \"This year we sold ______ boxes!\"\n",
        "\n",
        "boxes_sold = total_samoas + total_thinmints + total_tagalongs\n",
        "print(f'this year we sold {boxes_sold} boxes!')"
      ],
      "execution_count": 0,
      "outputs": [
        {
          "output_type": "stream",
          "text": [
            "Wendy: 25\n",
            "Connie: 26\n",
            "Francesca: 42\n",
            "tagalongs: 33\n",
            "thin mints: 30\n",
            "samoas: 30\n",
            "avg tagalongs: 11.0\n",
            "avg thin mints: 10.0\n",
            "avg samoas: 10.0\n",
            "this year we sold 93 boxes!\n"
          ],
          "name": "stdout"
        }
      ]
    },
    {
      "cell_type": "markdown",
      "metadata": {
        "id": "U32QUUqHSN8b",
        "colab_type": "text"
      },
      "source": [
        "\n",
        "\n",
        "### P3.PY\n",
        "\n",
        "\n"
      ]
    },
    {
      "cell_type": "code",
      "metadata": {
        "id": "UfPFoSqGSN8d",
        "colab_type": "code",
        "outputId": "090a974b-05c5-4fdb-c2e9-5cfbe08191fc",
        "colab": {
          "base_uri": "https://localhost:8080/",
          "height": 51
        }
      },
      "source": [
        "\"\"\"\n",
        "Inverting Keys & Values\n",
        "\"\"\"\n",
        "\n",
        "# Invert dict1 - make the current keys into values and the current values into keys.\n",
        "\n",
        "\n",
        "dict1 = { \"k1\" : \"v1\", \"k2\" : \"v2\", \"k3\" : \"v1\" }\n",
        "\n",
        "inverted = {}\n",
        "for k, v in dict1.items():\n",
        "  inverted.setdefault(v, list()).append(k)\n",
        "print(inverted)\n",
        "\n",
        "print(dict1)\n",
        "# my_inverted_dict = dict()\n",
        "# for key, value in my_dict.items():\n",
        "#     my_inverted_dict.setdefault(value, list()).append(key)"
      ],
      "execution_count": 0,
      "outputs": [
        {
          "output_type": "stream",
          "text": [
            "{'v1': ['k1', 'k3'], 'v2': ['k2']}\n",
            "{'k1': 'v1', 'k2': 'v2', 'k3': 'v1'}\n"
          ],
          "name": "stdout"
        }
      ]
    },
    {
      "cell_type": "markdown",
      "metadata": {
        "id": "1Z5ZE-l3T-Zs",
        "colab_type": "text"
      },
      "source": [
        "## DICT LOOPS\n",
        "\n",
        "\n"
      ]
    },
    {
      "cell_type": "markdown",
      "metadata": {
        "id": "qOHH_tdgUIzl",
        "colab_type": "text"
      },
      "source": [
        "### P1.PY"
      ]
    },
    {
      "cell_type": "code",
      "metadata": {
        "id": "VAvRbaZiT-Zt",
        "colab_type": "code",
        "outputId": "85368857-9601-49d6-d3e1-bf6a9d065db7",
        "colab": {
          "base_uri": "https://localhost:8080/",
          "height": 119
        }
      },
      "source": [
        "\"\"\"\n",
        "Contacts\n",
        "\"\"\"\n",
        "\n",
        "# You went to a conference and got people to sign up for text updates from your startup. \n",
        "# Go through this dict to make the phone numbers readable to a computer. \n",
        "\n",
        "# Hint: It can't include any non-numeric\n",
        "# characters.\n",
        "\n",
        "contacts = {\n",
        "\t'Jamie': '1.192.168.0143',\n",
        "\t'Kartik': '1.837.209.1121',\n",
        "\t'Grant': '1.826.386.1258',\n",
        "\t'Brandon': '1.935.297.1147',\n",
        "\t'Monique': '1.702.706.1353',\n",
        "\t'Sohom': '1.576.619.6aa0',\n",
        "}\n",
        "\n",
        "\n",
        "for k, v in contacts.items(): \n",
        "\tif any(x.isalpha() for x in v):\t\n",
        "\t\tprint(v,'is not a valid phone number')\n",
        "\telse:\n",
        "\t\tprint(v,'is valid phone number')\n",
        "\n",
        "\t\n",
        "\n",
        "\n",
        "\n",
        "# print('not a valid phone number')\n",
        "# \telse:\n",
        "# \t\tprint('valid phone number')\n",
        "\n",
        "\n",
        "\n"
      ],
      "execution_count": 0,
      "outputs": [
        {
          "output_type": "stream",
          "text": [
            "1.192.168.0143 is valid phone number\n",
            "1.837.209.1121 is valid phone number\n",
            "1.826.386.1258 is valid phone number\n",
            "1.935.297.1147 is valid phone number\n",
            "1.702.706.1353 is valid phone number\n",
            "1.576.619.6aa0 is not a valid phone number\n"
          ],
          "name": "stdout"
        }
      ]
    },
    {
      "cell_type": "markdown",
      "metadata": {
        "id": "I9eekKo7T-Zv",
        "colab_type": "text"
      },
      "source": [
        "\n",
        "\n",
        "### P2.PY\n",
        "\n",
        "\n"
      ]
    },
    {
      "cell_type": "code",
      "metadata": {
        "id": "rjRPhf-oT-Zw",
        "colab_type": "code",
        "outputId": "fc8c795e-edd1-4245-ad24-e5b131a138b7",
        "colab": {
          "base_uri": "https://localhost:8080/",
          "height": 88
        }
      },
      "source": [
        "\"\"\"\n",
        "Grades\n",
        "\"\"\"\n",
        "# Here's a dict containing students' grades from the semester's assignments.\n",
        "\n",
        "students = {\n",
        "  'Ashton': [86, 45, 98, 100],\n",
        "  'Sierra': [100, 100, 100, 100],\n",
        "  'Zach': [38, 49, 90, 87],\n",
        "  'Manuel': [98, 92, 86, 100],\n",
        "  'Felicia': [94, 87, 89, 95],\n",
        "  'Ankur': [75, 77, 77, 85],\n",
        "  'Ananya': [98, 94, 87, 92],\n",
        "  'Nick': [79, 84, 89, 90],\n",
        "  'Olivia': [83, 91, 69, 85],\n",
        "  'Molly': [83, 74, 72, 90]\n",
        "}\n",
        "\n",
        "# p 1.1) Create a dict called num_grades to store each student's average numerical grade for the semester.\n",
        "\n",
        "\n",
        "names = []\n",
        "avg = []\n",
        "\n",
        "for n, grades in students.items():\n",
        "  avg_grade = sum(grades)/len(grades)\n",
        "  avg.append(avg_grade)\n",
        "  names.append(n)\n",
        "\n",
        "num_grades = dict(zip(names,avg))\n",
        "print(num_grades)\n",
        "\n",
        " \n",
        "\n",
        "# p 1.2) Create a dict called letter_grades to store each student's final letter grade for the semester. \n",
        "# Use A, B, C, D, and F as grades per the standard grading scale.\n",
        "\n",
        "letter = []\n",
        "\n",
        "for x in num_grades.values():\n",
        "  if x >= 90:\n",
        "    x = 'A'\n",
        "  elif x >= 80:\n",
        "    x = 'B'\n",
        "  elif x >= 70:\n",
        "    x = 'C'\n",
        "  else:\n",
        "    x = 'D'\n",
        "  letter.append(x)\n",
        "\n",
        "letter_grades = dict(zip(names,letter))\n",
        "print(letter_grades)\n",
        "\n",
        "honor = []\n",
        "honor_names = []\n",
        "for x in letter_grades.values():\n",
        "  if x == 'A':\n",
        "    honor.append(x)\n",
        "\n",
        "for x,y in letter_grades.items():\n",
        "  if y == \"A\":\n",
        "    honor_names.append(x)\n",
        "\n",
        "honor_roll = dict(zip(honor_names,honor ))\n",
        "print(honor_roll)\n",
        "\n",
        "\n"
      ],
      "execution_count": 0,
      "outputs": [
        {
          "output_type": "stream",
          "text": [
            "{'Ashton': 82.25, 'Sierra': 100.0, 'Zach': 66.0, 'Manuel': 94.0, 'Felicia': 91.25, 'Ankur': 78.5, 'Ananya': 92.75, 'Nick': 85.5, 'Olivia': 82.0, 'Molly': 79.75}\n",
            "{'Ashton': 'B', 'Sierra': 'A', 'Zach': 'D', 'Manuel': 'A', 'Felicia': 'A', 'Ankur': 'C', 'Ananya': 'A', 'Nick': 'B', 'Olivia': 'B', 'Molly': 'C'}\n",
            "{'Sierra': 'A', 'Manuel': 'A', 'Felicia': 'A', 'Ananya': 'A'}\n"
          ],
          "name": "stdout"
        }
      ]
    },
    {
      "cell_type": "markdown",
      "metadata": {
        "id": "JAuED7k97xlh",
        "colab_type": "text"
      },
      "source": [
        ""
      ]
    },
    {
      "cell_type": "markdown",
      "metadata": {
        "id": "fjXYhpR_T-Zz",
        "colab_type": "text"
      },
      "source": [
        "\n",
        "\n",
        "### P3.PY\n",
        "\n",
        "\n"
      ]
    },
    {
      "cell_type": "code",
      "metadata": {
        "id": "dnNTo_y5T-Z0",
        "colab_type": "code",
        "outputId": "03b4c1b4-428f-4289-e778-3ff504cebaf5",
        "colab": {
          "base_uri": "https://localhost:8080/",
          "height": 130
        }
      },
      "source": [
        "\"\"\"\n",
        "Price Inventory\n",
        "\"\"\"\n",
        "\n",
        "# Imagine you're the owner of an Italian restaurant. \n",
        "# You're evaluating your pricing to make sure it's up to date with the latest costs of making each menu item \n",
        "# (see the menu prices and costs dicts below). \n",
        "# Evaluate whether each item's price returns a profit margin of at least $1.00. If it doesn't, \n",
        "# update the menu_prices dict with a new price that gives the item a $1.00 profit margin. \n",
        "# Then print out the items which you've repriced in a new dict called price_increases.\n",
        "\n",
        "menu_prices = {\n",
        "\t'fettuccine bolognese': 14.99,\n",
        "\t'gnocchi gorgonzola': 10.99,\n",
        "\t'chicken parmigiano': 13.99,\n",
        "\t'butternut squash risotto': 9.99,\n",
        "\t'spaghetti carbonara': 12.99,\n",
        "\t'pizza margherita': 12.99,\n",
        "\t'chicken marsala': 13.99\n",
        "}\n",
        "\n",
        "\n",
        "menu_costs = {\n",
        "\t'fettuccine bolognese': 12.50,\n",
        "\t'gnocchi gorgonzola': 11.25,\n",
        "\t'chicken parmigiano': 11.75,\n",
        "\t'butternut squash risotto': 6.33,\n",
        "\t'spaghetti carbonara': 12.90,\n",
        "\t'pizza margherita': 14.00,\n",
        "\t'chicken marsala': 11.75\n",
        "}\n",
        "\n",
        "#subtracted menu items\n",
        "menu_margins = {key: menu_prices[key] - menu_costs.get(key, 0) \n",
        "                       for key in menu_costs.keys()} \n",
        "#made two empty lists\n",
        "underpriced_names = []\n",
        "underpriced_items = []\n",
        "\n",
        "#if the difference \n",
        "for k,v in menu_margins.items():\n",
        "\tif v < 1:\n",
        "\t\tunderpriced_names.append(k)\n",
        "\t\tunderpriced_items.append(v)\n",
        "\n",
        "\n",
        "\n",
        "price_increases = dict(zip(underpriced_names,underpriced_items))\n",
        "\n",
        "for k,v in price_increases.items():\n",
        "\tfor v + x == 1:\t\n",
        "\t\tprint(x)\n",
        "print(price_increases)\n",
        "\n",
        "# price_increases = \n",
        "\n"
      ],
      "execution_count": 0,
      "outputs": [
        {
          "output_type": "error",
          "ename": "SyntaxError",
          "evalue": "ignored",
          "traceback": [
            "\u001b[0;36m  File \u001b[0;32m\"<ipython-input-30-85d854c1c652>\"\u001b[0;36m, line \u001b[0;32m51\u001b[0m\n\u001b[0;31m    for v + x == 1:\u001b[0m\n\u001b[0m               ^\u001b[0m\n\u001b[0;31mSyntaxError\u001b[0m\u001b[0;31m:\u001b[0m invalid syntax\n"
          ]
        }
      ]
    },
    {
      "cell_type": "markdown",
      "metadata": {
        "id": "OY4HIe9zSN8g",
        "colab_type": "text"
      },
      "source": [
        "## COUNTERS CHALLENGE\n",
        "\n",
        "\n"
      ]
    },
    {
      "cell_type": "markdown",
      "metadata": {
        "id": "n6-wbcqISxIr",
        "colab_type": "text"
      },
      "source": [
        "### P1.PY"
      ]
    },
    {
      "cell_type": "code",
      "metadata": {
        "id": "LKLiEr_3SN8g",
        "colab_type": "code",
        "outputId": "580becde-926c-4476-9dd9-82173fb1301f",
        "colab": {
          "base_uri": "https://localhost:8080/",
          "height": 34
        }
      },
      "source": [
        "\"\"\"\n",
        "Word Frequency\n",
        "\"\"\"\n",
        "\n",
        "# Print out the number of words in this movie quote. Find and print out the most common word in the quote and how many times it was used.\n",
        "### Hint: You do not need a loop for this. Look up the Counter docs in python3.\n",
        "\n",
        "from collections import Counter\n",
        "\n",
        "princess_bride = [\n",
        "'Hello', 'my', 'name', 'is', 'Inigo', 'Montoya',\n",
        "'You', 'killed', 'my', 'father',\n",
        "'Prepare', 'to', 'die'\n",
        "]\n",
        "\n",
        "def mode(my_list):\n",
        "    ct = Counter(my_list)\n",
        "    max_value = max(ct.values())\n",
        "    return sorted(key for key, value in ct.items() if value == max_value)\n",
        "\n",
        "mode(princess_bride) \n",
        "\n",
        "\n",
        "\n",
        "\n",
        "# p.s. You might use this to help analyze the most common topic in \n",
        "# comments or reviews from your users to help understand the best places to improve you product."
      ],
      "execution_count": 2,
      "outputs": [
        {
          "output_type": "execute_result",
          "data": {
            "text/plain": [
              "['my']"
            ]
          },
          "metadata": {
            "tags": []
          },
          "execution_count": 2
        }
      ]
    },
    {
      "cell_type": "markdown",
      "metadata": {
        "id": "7L4oLSDpSN8n",
        "colab_type": "text"
      },
      "source": [
        "\n",
        "\n",
        "### P2.PY\n",
        "\n",
        "\n"
      ]
    },
    {
      "cell_type": "code",
      "metadata": {
        "id": "MYo0kTxuSN8o",
        "colab_type": "code",
        "colab": {}
      },
      "source": [
        "\"\"\"\n",
        "Summing Dict Values\n",
        "\"\"\"\n",
        "\n",
        "# Two Kindergarten teachers poll their classes for what fruit they want to eat for snacktime tomorrow. \n",
        "#Only one of them is going shopping, so she needs to know how many of each fruit she needs to buy in total. \n",
        "#Tally these up and assign them to the \"shopping_list\" dict.\n",
        "\n",
        "poll1 = {'apples': 8, 'bananas': 12}\n",
        "poll2 = {'apples': 6, 'bananas': 6, 'clementines': 8}\n",
        "\n",
        "### shopping_list = \n",
        "\n"
      ],
      "execution_count": 0,
      "outputs": []
    }
  ]
}